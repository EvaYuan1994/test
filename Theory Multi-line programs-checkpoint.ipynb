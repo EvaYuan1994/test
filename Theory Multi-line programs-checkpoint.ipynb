{
 "cells": [
  {
   "cell_type": "code",
   "execution_count": 1,
   "id": "dcec4171",
   "metadata": {},
   "outputs": [
    {
     "name": "stdout",
     "output_type": "stream",
     "text": [
      "I\n",
      "know\n",
      "Python\n"
     ]
    }
   ],
   "source": [
    "print(\"I\")\n",
    "print(\"know\")\n",
    "print(\"Python\")"
   ]
  },
  {
   "cell_type": "code",
   "execution_count": null,
   "id": "ff4447f6",
   "metadata": {},
   "outputs": [],
   "source": [
    "print(\"I\")\n",
    "print()\n",
    "print(\"know\")\n",
    "print()\n",
    "print(\"python\")"
   ]
  },
  {
   "cell_type": "code",
   "execution_count": null,
   "id": "bb220c19",
   "metadata": {
    "scrolled": false
   },
   "outputs": [],
   "source": [
    "print(\"Amy said:\\\"I want to go to 'Unil'\\\"\")"
   ]
  },
  {
   "cell_type": "code",
   "execution_count": null,
   "id": "6835ea82",
   "metadata": {},
   "outputs": [],
   "source": [
    "# strings\n",
    "print('I am Huajuan.')\n",
    "print(\"I am Huajuan.\")"
   ]
  },
  {
   "cell_type": "code",
   "execution_count": null,
   "id": "f799ecc1",
   "metadata": {},
   "outputs": [],
   "source": [
    "# Numerical Types\n",
    "print(27)\n",
    "print(27.1)"
   ]
  },
  {
   "cell_type": "code",
   "execution_count": null,
   "id": "5d669c1e",
   "metadata": {
    "scrolled": true
   },
   "outputs": [],
   "source": [
    "print(type(\"Huajuan\"))\n",
    "print(type(-27.1))"
   ]
  },
  {
   "cell_type": "code",
   "execution_count": null,
   "id": "622e480f",
   "metadata": {},
   "outputs": [],
   "source": [
    "print(type('\"int\"'))"
   ]
  },
  {
   "cell_type": "code",
   "execution_count": null,
   "id": "c37325ee",
   "metadata": {},
   "outputs": [],
   "source": [
    "print(type('int'))"
   ]
  },
  {
   "cell_type": "code",
   "execution_count": null,
   "id": "f9859d15",
   "metadata": {},
   "outputs": [],
   "source": [
    "day_of_week = \"Saturday\""
   ]
  },
  {
   "cell_type": "code",
   "execution_count": null,
   "id": "386a9a7f",
   "metadata": {},
   "outputs": [],
   "source": [
    "print(day_of_week)"
   ]
  },
  {
   "cell_type": "code",
   "execution_count": null,
   "id": "8a1e35b2",
   "metadata": {},
   "outputs": [],
   "source": [
    "print(type(day_of_week))"
   ]
  },
  {
   "cell_type": "code",
   "execution_count": null,
   "id": "b9c09304",
   "metadata": {},
   "outputs": [],
   "source": [
    "day_of_week = \"Sunday\"\n",
    "print(day_of_week)"
   ]
  },
  {
   "cell_type": "code",
   "execution_count": null,
   "id": "d1cfbcb4",
   "metadata": {},
   "outputs": [],
   "source": [
    "date = day_of_week\n",
    "print(date)"
   ]
  },
  {
   "cell_type": "code",
   "execution_count": null,
   "id": "f7985659",
   "metadata": {},
   "outputs": [],
   "source": [
    "# Python allows you to assign values of different types to the same variable.BUT they couldn't be written in the same cell.\n",
    "month = 12\n",
    "print(type(month))"
   ]
  },
  {
   "cell_type": "code",
   "execution_count": null,
   "id": "3cb4e509",
   "metadata": {},
   "outputs": [],
   "source": [
    "month = \"Dec\"\n",
    "print(type(month))"
   ]
  },
  {
   "cell_type": "code",
   "execution_count": null,
   "id": "c02d62f0",
   "metadata": {},
   "outputs": [],
   "source": [
    "user_name = input()\n",
    "print(\"Hello, \" + user_name)"
   ]
  },
  {
   "cell_type": "code",
   "execution_count": null,
   "id": "b216043e",
   "metadata": {},
   "outputs": [],
   "source": [
    "user_name = input('please enter your name:')\n",
    "print(\"hello, \" + user_name)"
   ]
  },
  {
   "cell_type": "code",
   "execution_count": null,
   "id": "85c67621",
   "metadata": {},
   "outputs": [],
   "source": [
    "print('please enter your name:')\n",
    "user_name = input()\n",
    "print('hello,' + user_name)"
   ]
  },
  {
   "cell_type": "code",
   "execution_count": null,
   "id": "a675e088",
   "metadata": {},
   "outputs": [],
   "source": [
    "print('what is your favorite number?')\n",
    "value = int(input())"
   ]
  },
  {
   "cell_type": "code",
   "execution_count": null,
   "id": "d73df6cf",
   "metadata": {},
   "outputs": [],
   "source": [
    "print(type(value))"
   ]
  },
  {
   "cell_type": "code",
   "execution_count": null,
   "id": "2166b457",
   "metadata": {},
   "outputs": [],
   "source": [
    "month = input()\n",
    "day = int(input())\n",
    "print('Labour\\'s Day is celebrated on', month, day )"
   ]
  },
  {
   "cell_type": "code",
   "execution_count": null,
   "id": "a45ba885",
   "metadata": {},
   "outputs": [],
   "source": [
    "month = input()\n",
    "day = input()\n",
    "print('Labour\\'s Day is celebrated on ' + month + \" \" + day )"
   ]
  },
  {
   "cell_type": "code",
   "execution_count": null,
   "id": "f181bc87",
   "metadata": {},
   "outputs": [],
   "source": [
    "month = input()\n",
    "day = input()\n",
    "print('Labour\\'s Day is celebrated on ' + month, day )"
   ]
  },
  {
   "cell_type": "code",
   "execution_count": null,
   "id": "fc901146",
   "metadata": {},
   "outputs": [],
   "source": [
    "print('Hello! My name is Aid.')\n",
    "print('I was created in 2020.')\n",
    "print('Please, remind me your name.')\n",
    "\n",
    "# reading a name\n",
    "user_name = input()\n",
    "print('What a great name you have, '+ user_name + \"!\")"
   ]
  },
  {
   "cell_type": "code",
   "execution_count": null,
   "id": "0a66a81a",
   "metadata": {},
   "outputs": [],
   "source": [
    "# list\n",
    "dog_breeds = ['corgi', 'labrador', 'poodle', 'jack russell']\n",
    "print(dog_breeds)"
   ]
  },
  {
   "cell_type": "code",
   "execution_count": null,
   "id": "ed7c5c26",
   "metadata": {},
   "outputs": [],
   "source": [
    "number = [1.2, 2.4, 3.6]\n",
    "print(number)"
   ]
  },
  {
   "cell_type": "code",
   "execution_count": null,
   "id": "d5c7dd4e",
   "metadata": {},
   "outputs": [],
   "source": [
    "list_out_of_str = list('danger!')\n",
    "print(list_out_of_str)"
   ]
  },
  {
   "cell_type": "code",
   "execution_count": null,
   "id": "8268f18f",
   "metadata": {},
   "outputs": [],
   "source": [
    "list_out_of_int = list(1234)\n",
    "print(list_out_of_int)"
   ]
  },
  {
   "cell_type": "code",
   "execution_count": null,
   "id": "c02c2394",
   "metadata": {},
   "outputs": [],
   "source": [
    "empty_list_1 = list()\n",
    "empty_list_2 = []"
   ]
  },
  {
   "cell_type": "code",
   "execution_count": null,
   "id": "1edaa879",
   "metadata": {},
   "outputs": [],
   "source": [
    "print(len(list_out_of_str))"
   ]
  },
  {
   "cell_type": "code",
   "execution_count": null,
   "id": "839ff6d5",
   "metadata": {},
   "outputs": [],
   "source": [
    "print(len(empty_list_1))"
   ]
  },
  {
   "cell_type": "code",
   "execution_count": null,
   "id": "82649c04",
   "metadata": {},
   "outputs": [],
   "source": [
    "print(len(dog_breeds))"
   ]
  },
  {
   "cell_type": "code",
   "execution_count": null,
   "id": "15437be1",
   "metadata": {},
   "outputs": [],
   "source": [
    "first_dog_breeds = dog_breeds[0]\n",
    "print(first_dog_breeds)"
   ]
  },
  {
   "cell_type": "code",
   "execution_count": null,
   "id": "43f5ed78",
   "metadata": {},
   "outputs": [],
   "source": [
    "print(type(first_dog_breeds))"
   ]
  },
  {
   "cell_type": "code",
   "execution_count": null,
   "id": "3bc67462",
   "metadata": {},
   "outputs": [],
   "source": [
    "month = ['Jan', 1, 'Feb', 2]\n",
    "first_month = month[1]\n",
    "print(type(first_month))"
   ]
  },
  {
   "cell_type": "code",
   "execution_count": null,
   "id": "b4b11416",
   "metadata": {},
   "outputs": [],
   "source": [
    "animal = 'dogs'\n",
    "first_elem = animal[0]\n",
    "print(first_elem)"
   ]
  },
  {
   "cell_type": "code",
   "execution_count": null,
   "id": "e0d3cd3b",
   "metadata": {},
   "outputs": [],
   "source": [
    "print(type(first_elem))"
   ]
  },
  {
   "cell_type": "code",
   "execution_count": null,
   "id": "a6ae0875",
   "metadata": {},
   "outputs": [],
   "source": [
    "fifth_elem = dog_breeds[4]"
   ]
  },
  {
   "cell_type": "code",
   "execution_count": null,
   "id": "bb21dbc5",
   "metadata": {},
   "outputs": [],
   "source": [
    "fourth_elem = animal[4]"
   ]
  },
  {
   "cell_type": "code",
   "execution_count": null,
   "id": "b688eaff",
   "metadata": {},
   "outputs": [],
   "source": [
    "dog_breeds[3] = 'little dog'"
   ]
  },
  {
   "cell_type": "code",
   "execution_count": null,
   "id": "c47dd2b7",
   "metadata": {},
   "outputs": [],
   "source": [
    "print(dog_breeds)"
   ]
  },
  {
   "cell_type": "code",
   "execution_count": null,
   "id": "2ca8b885",
   "metadata": {
    "scrolled": true
   },
   "outputs": [],
   "source": [
    "price = input().split(',')"
   ]
  },
  {
   "cell_type": "code",
   "execution_count": null,
   "id": "7f9c6865",
   "metadata": {},
   "outputs": [],
   "source": [
    "price = input().split()"
   ]
  },
  {
   "cell_type": "code",
   "execution_count": null,
   "id": "8cc9bc54",
   "metadata": {},
   "outputs": [],
   "source": [
    "print(type(price))"
   ]
  },
  {
   "cell_type": "code",
   "execution_count": null,
   "id": "ce2508a4",
   "metadata": {},
   "outputs": [],
   "source": [
    "print(price)"
   ]
  },
  {
   "cell_type": "code",
   "execution_count": null,
   "id": "0c5e013c",
   "metadata": {},
   "outputs": [],
   "source": [
    "print(price[2])"
   ]
  },
  {
   "cell_type": "code",
   "execution_count": null,
   "id": "d177d412",
   "metadata": {},
   "outputs": [],
   "source": [
    "grid = input()\n",
    "print('---------')\n",
    "print('|',grid[0],grid[1],grid[2],'|')\n",
    "print('|',grid[3],grid[4],grid[5],'|')\n",
    "print('|',grid[6],grid[7],grid[8],'|')\n",
    "print('---------')"
   ]
  },
  {
   "cell_type": "code",
   "execution_count": null,
   "id": "45d72066",
   "metadata": {},
   "outputs": [],
   "source": [
    "name, surname = 'Huajuan', 'Yuan'"
   ]
  },
  {
   "cell_type": "code",
   "execution_count": null,
   "id": "56b26a0b",
   "metadata": {},
   "outputs": [],
   "source": [
    "print(name)"
   ]
  },
  {
   "cell_type": "code",
   "execution_count": null,
   "id": "1945749b",
   "metadata": {},
   "outputs": [],
   "source": [
    "print(surname)"
   ]
  },
  {
   "cell_type": "code",
   "execution_count": null,
   "id": "b18937a4",
   "metadata": {},
   "outputs": [],
   "source": [
    "print(3\n",
    "     +2\n",
    "     -1)"
   ]
  },
  {
   "cell_type": "code",
   "execution_count": null,
   "id": "6d3ace80",
   "metadata": {},
   "outputs": [],
   "source": [
    "print(31 ** 331 % 20)"
   ]
  },
  {
   "cell_type": "code",
   "execution_count": null,
   "id": "d417f757",
   "metadata": {},
   "outputs": [],
   "source": [
    "like_you = \"like\" + \"you\""
   ]
  },
  {
   "cell_type": "code",
   "execution_count": null,
   "id": "f29d7040",
   "metadata": {},
   "outputs": [],
   "source": [
    "print(like_you)"
   ]
  },
  {
   "cell_type": "code",
   "execution_count": 2,
   "id": "6d63ff2a",
   "metadata": {},
   "outputs": [
    {
     "name": "stdout",
     "output_type": "stream",
     "text": [
      "How much money do you spend per month: 12\n",
      "you need 16.666666666666668 months to get a free trip\n"
     ]
    }
   ],
   "source": [
    "money_per_month = float(input('How much money do you spend per month: '))\n",
    "n_miles = money_per_month * 2\n",
    "distance = 200\n",
    "free_trip = distance * 2 / n_miles\n",
    "print('you need', free_trip, 'months to get a free trip')"
   ]
  },
  {
   "cell_type": "code",
   "execution_count": null,
   "id": "38e3c7ff",
   "metadata": {},
   "outputs": [],
   "source": [
    "score = 78\n",
    "step = abs(int(input()))\n",
    "score += step\n",
    "print(score)"
   ]
  },
  {
   "cell_type": "code",
   "execution_count": null,
   "id": "3159c483",
   "metadata": {},
   "outputs": [],
   "source": [
    "a = int(input()) \n",
    "desk_a=a // 2 + a % 2\n",
    "print(desk_a)"
   ]
  },
  {
   "cell_type": "code",
   "execution_count": null,
   "id": "7b6489ae",
   "metadata": {},
   "outputs": [],
   "source": [
    "is_open = True"
   ]
  },
  {
   "cell_type": "code",
   "execution_count": null,
   "id": "6bbc1b35",
   "metadata": {},
   "outputs": [],
   "source": [
    "print(is_open)"
   ]
  },
  {
   "cell_type": "code",
   "execution_count": null,
   "id": "2852a0b7",
   "metadata": {},
   "outputs": [],
   "source": [
    "a = True and False\n",
    "b = True or False\n",
    "c = not b\n",
    "print(a,b,c)\n"
   ]
  },
  {
   "cell_type": "code",
   "execution_count": null,
   "id": "22ce3f88",
   "metadata": {},
   "outputs": [],
   "source": [
    "print(True or False and not True)"
   ]
  },
  {
   "cell_type": "code",
   "execution_count": null,
   "id": "ade6115f",
   "metadata": {},
   "outputs": [],
   "source": [
    "#  falsy\n",
    "print(\"\" or False)\n",
    "print(0.0 or False)\n",
    "print(None or False)\n",
    "print([] or False)"
   ]
  },
  {
   "cell_type": "code",
   "execution_count": null,
   "id": "5be58741",
   "metadata": {},
   "outputs": [],
   "source": [
    "# Truthy\n",
    "print('True' and True)"
   ]
  },
  {
   "cell_type": "code",
   "execution_count": null,
   "id": "a2034478",
   "metadata": {},
   "outputs": [],
   "source": [
    "truthy_integer = False or 5 and 100\n",
    "print(truthy_integer)"
   ]
  },
  {
   "cell_type": "code",
   "execution_count": null,
   "id": "d82235ae",
   "metadata": {},
   "outputs": [],
   "source": [
    "#  Short-circuit evaluation\n",
    "print(100 and 5)\n",
    "print(5 and 100)\n",
    "print(0.0 and False)\n",
    "print(False and 0.0)\n",
    "print('' or False)\n",
    "print(False or '')\n",
    "print(True or '')\n",
    "print('' or True)"
   ]
  },
  {
   "cell_type": "code",
   "execution_count": null,
   "id": "07b92821",
   "metadata": {},
   "outputs": [],
   "source": [
    "print(not 0.0)"
   ]
  },
  {
   "cell_type": "code",
   "execution_count": null,
   "id": "8cebf6fb",
   "metadata": {},
   "outputs": [],
   "source": [
    "lazy_or = (1 / 0) or True "
   ]
  },
  {
   "cell_type": "code",
   "execution_count": null,
   "id": "4e56e219",
   "metadata": {},
   "outputs": [],
   "source": [
    "lazy_or = True or (1 / 0)"
   ]
  },
  {
   "cell_type": "code",
   "execution_count": null,
   "id": "f1afe2a0",
   "metadata": {},
   "outputs": [],
   "source": [
    "print(lazy_or)"
   ]
  },
  {
   "cell_type": "code",
   "execution_count": null,
   "id": "94763083",
   "metadata": {},
   "outputs": [],
   "source": [
    "a = 5\n",
    "b = -10\n",
    "c = 15\n",
    "print(a == b + c)"
   ]
  },
  {
   "cell_type": "code",
   "execution_count": null,
   "id": "aa4f38bb",
   "metadata": {},
   "outputs": [],
   "source": [
    "print(a < c and c > b)"
   ]
  },
  {
   "cell_type": "code",
   "execution_count": null,
   "id": "483a9c9a",
   "metadata": {},
   "outputs": [],
   "source": [
    "print(a < c > b)"
   ]
  },
  {
   "cell_type": "code",
   "execution_count": null,
   "id": "0b4cf3d4",
   "metadata": {},
   "outputs": [],
   "source": [
    "print(a < (c and c) > b)"
   ]
  },
  {
   "cell_type": "code",
   "execution_count": null,
   "id": "f7955114",
   "metadata": {},
   "outputs": [],
   "source": [
    "print(6 > 3 == 3)\n",
    "print(6 > 3 == 6)"
   ]
  },
  {
   "cell_type": "code",
   "execution_count": null,
   "id": "f4ba6d99",
   "metadata": {},
   "outputs": [],
   "source": [
    "print(True and 3+2)\n",
    "print(3+2 or False)"
   ]
  },
  {
   "cell_type": "code",
   "execution_count": null,
   "id": "6b706320",
   "metadata": {},
   "outputs": [],
   "source": [
    "a = 99\n",
    "b = 3\n",
    "print(99 % 3 ==0)"
   ]
  },
  {
   "cell_type": "code",
   "execution_count": null,
   "id": "4107fadd",
   "metadata": {},
   "outputs": [],
   "source": [
    "a = int(input())\n",
    "b = int(input())\n",
    "print(a / b % 2 != 0)"
   ]
  },
  {
   "cell_type": "code",
   "execution_count": null,
   "id": "5f1e9fc8",
   "metadata": {},
   "outputs": [],
   "source": [
    "girl = 5\n",
    "if girl >= 5:\n",
    "    print('we need a boy!')"
   ]
  },
  {
   "cell_type": "code",
   "execution_count": null,
   "id": "d306b89f",
   "metadata": {},
   "outputs": [],
   "source": [
    "girl = 3\n",
    "if girl >= 5:\n",
    "    print('we need a boy!')\n",
    "    print('why?')\n",
    "print('because we need sex equality')"
   ]
  },
  {
   "cell_type": "code",
   "execution_count": null,
   "id": "0167ed81",
   "metadata": {},
   "outputs": [],
   "source": [
    "rainbow = 'red, orange, yellow, green, blue, indigo, violet'\n",
    "warm_color = 'red, yellow, orange'\n",
    "my_color = 'yellow'\n",
    "\n",
    "if my_color in rainbow:\n",
    "    print('Wow, your color is in the rainbow!')\n",
    "    if my_color in warm_color:\n",
    "        print(\"Oh, by the way, it's a warm color.\")"
   ]
  },
  {
   "cell_type": "code",
   "execution_count": null,
   "id": "5d3f7d17",
   "metadata": {},
   "outputs": [],
   "source": [
    "today = 0\n",
    "print('I like Sunday' if today else 'I like Saturday')"
   ]
  },
  {
   "cell_type": "code",
   "execution_count": null,
   "id": "18989c7f",
   "metadata": {},
   "outputs": [],
   "source": [
    "a = 1000\n",
    "if a > 100:\n",
    "    print('a is bigger than 100')\n",
    "else:\n",
    "    if a > 5:\n",
    "        print('a is bigger than 5')\n",
    "    else:\n",
    "        print('a is less than 5')\n",
    "    print('This will be printed only because 5 < a <100')"
   ]
  },
  {
   "cell_type": "code",
   "execution_count": null,
   "id": "058cbff4",
   "metadata": {},
   "outputs": [],
   "source": [
    "a =  int(input())\n",
    "b = int (input())\n",
    "if a >= b:\n",
    "    print(a)\n",
    "    print(b)\n",
    "else:\n",
    "        print(b)\n",
    "        print(a)"
   ]
  },
  {
   "cell_type": "code",
   "execution_count": null,
   "id": "81b0480a",
   "metadata": {},
   "outputs": [],
   "source": [
    "a = int(input())\n",
    "b = int(input())\n",
    "c = int(input())\n",
    "if a + b > c and a + c > b and b + c > a:\n",
    "    print('The triangle is valid!')\n",
    "else:\n",
    "    print('The triangle is not valid!')"
   ]
  },
  {
   "cell_type": "code",
   "execution_count": null,
   "id": "27af6c15",
   "metadata": {},
   "outputs": [],
   "source": [
    "dictionary = [\"aa\", \"abab\", \"aac\", \"ba\", \"bac\", \"baba\", \"cac\", \"caac\"]\n",
    "word = input()\n",
    "if word in dictionary:\n",
    "    print('Correct')\n",
    "else:\n",
    "    print('Incorrect')"
   ]
  },
  {
   "cell_type": "code",
   "execution_count": null,
   "id": "0bb61bcc",
   "metadata": {},
   "outputs": [],
   "source": [
    "year = int(input())\n",
    "if year % 4 == 0 and year % 100 != 0 or year % 400 == 0:\n",
    "    print('Leap')\n",
    "else:\n",
    "    print('Ordinary')"
   ]
  },
  {
   "cell_type": "code",
   "execution_count": null,
   "id": "2f9b13a2",
   "metadata": {},
   "outputs": [],
   "source": [
    "A = int(input())\n",
    "B = int(input())\n",
    "H = int(input())\n",
    "if A <= H <= B:\n",
    "    print('Normal')\n",
    "else:\n",
    "    if H < A:\n",
    "        print('Deficiency')\n",
    "    print('Excess')"
   ]
  },
  {
   "cell_type": "code",
   "execution_count": null,
   "id": "95cdbf82",
   "metadata": {},
   "outputs": [],
   "source": [
    "age = int(input())\n",
    "if age <=16:\n",
    "    print('Lion King')\n",
    "elif 17 <= age <= 25:\n",
    "    print('Trainspotting')\n",
    "elif 26 <= age <=40:\n",
    "    print('Matrix')\n",
    "elif 41 <= age <= 60:\n",
    "    print('Pulp Fiction')\n",
    "else:\n",
    "    print(\"Breakfast at Tiffany's\")"
   ]
  },
  {
   "cell_type": "code",
   "execution_count": null,
   "id": "53e86abb",
   "metadata": {},
   "outputs": [],
   "source": [
    "colors = ['red','yellow','blue']\n",
    "for color in colors:\n",
    "    print(color)"
   ]
  },
  {
   "cell_type": "code",
   "execution_count": null,
   "id": "2de6b7f3",
   "metadata": {},
   "outputs": [],
   "source": [
    "a = list('abc')"
   ]
  },
  {
   "cell_type": "code",
   "execution_count": null,
   "id": "98b6545d",
   "metadata": {},
   "outputs": [],
   "source": [
    "print(a)"
   ]
  },
  {
   "cell_type": "code",
   "execution_count": null,
   "id": "bcf2677e",
   "metadata": {},
   "outputs": [],
   "source": [
    "for var in a:\n",
    "    print(var)"
   ]
  },
  {
   "cell_type": "code",
   "execution_count": null,
   "id": "18a9eeef",
   "metadata": {},
   "outputs": [],
   "source": [
    "for alpha in 'elephant':\n",
    "    print(alpha)"
   ]
  },
  {
   "cell_type": "code",
   "execution_count": null,
   "id": "cc929cb8",
   "metadata": {},
   "outputs": [],
   "source": [
    "a[1]=1"
   ]
  },
  {
   "cell_type": "code",
   "execution_count": null,
   "id": "884241be",
   "metadata": {},
   "outputs": [],
   "source": [
    "print(a)"
   ]
  },
  {
   "cell_type": "code",
   "execution_count": null,
   "id": "cf05fcfa",
   "metadata": {},
   "outputs": [],
   "source": [
    "b='elephant'\n",
    "c=b[2]"
   ]
  },
  {
   "cell_type": "code",
   "execution_count": null,
   "id": "571e77a7",
   "metadata": {},
   "outputs": [],
   "source": [
    "print(c)"
   ]
  },
  {
   "cell_type": "code",
   "execution_count": null,
   "id": "3bed40ae",
   "metadata": {},
   "outputs": [],
   "source": [
    "for i in range(5):\n",
    "    print(i)"
   ]
  },
  {
   "cell_type": "code",
   "execution_count": null,
   "id": "5b07c76d",
   "metadata": {},
   "outputs": [],
   "source": [
    "for _ in range(10):\n",
    "    print('yeah')"
   ]
  },
  {
   "cell_type": "code",
   "execution_count": null,
   "id": "bd34fbe9",
   "metadata": {},
   "outputs": [],
   "source": [
    "times = int(input('how many times did you fly to Shanghai?'))\n",
    "for shanghai in range(times):\n",
    "    print('shanghai')"
   ]
  },
  {
   "cell_type": "code",
   "execution_count": null,
   "id": "3860a5ba",
   "metadata": {},
   "outputs": [],
   "source": [
    "names = ['Rose', 'Daniel']\n",
    "surnames = ['Miller', 'Yuan']\n",
    "for name in names:\n",
    "    for surname in surnames:\n",
    "         print(name, surname)"
   ]
  },
  {
   "cell_type": "code",
   "execution_count": null,
   "id": "c49b7f52",
   "metadata": {},
   "outputs": [],
   "source": [
    "for i in range(1,4):\n",
    "    print(i)"
   ]
  },
  {
   "cell_type": "code",
   "execution_count": null,
   "id": "ba0830e6",
   "metadata": {},
   "outputs": [],
   "source": [
    "count = 0\n",
    "string = \"red yellow fox bite orange goose beeeeeeeeeeep\"\n",
    "vowels = 'aeiou'\n",
    "for vowel in vowels:\n",
    "    for i in range(46):\n",
    "        if vowel == string[i]:\n",
    "            count += 1\n",
    "print(count)"
   ]
  },
  {
   "cell_type": "code",
   "execution_count": null,
   "id": "48112c23",
   "metadata": {},
   "outputs": [],
   "source": [
    "count = 0\n",
    "string = \"red yellow fox bite orange goose beeeeeeeeeeep\"\n",
    "vowels = 'aeiou'\n",
    "for vowel in vowels:\n",
    "    for alpha in string:\n",
    "        if vowel == alpha:\n",
    "            count += 1\n",
    "print(count)"
   ]
  },
  {
   "cell_type": "code",
   "execution_count": null,
   "id": "52d22a0e",
   "metadata": {},
   "outputs": [],
   "source": [
    "#  list comprehension\n",
    "new_list = [x for x in 'animals']"
   ]
  },
  {
   "cell_type": "code",
   "execution_count": null,
   "id": "79275876",
   "metadata": {},
   "outputs": [],
   "source": [
    "print(new_list)"
   ]
  },
  {
   "cell_type": "code",
   "execution_count": null,
   "id": "3348168b",
   "metadata": {},
   "outputs": [],
   "source": [
    "new_list = []\n",
    "for i in 'animals':\n",
    "    new_list.append(i)"
   ]
  },
  {
   "cell_type": "code",
   "execution_count": null,
   "id": "0b3e7fdb",
   "metadata": {},
   "outputs": [],
   "source": [
    "print(new_list)"
   ]
  },
  {
   "cell_type": "code",
   "execution_count": null,
   "id": "4c728bfd",
   "metadata": {},
   "outputs": [],
   "source": [
    "new_list=list('animals')\n",
    "print(new_list)"
   ]
  },
  {
   "cell_type": "code",
   "execution_count": null,
   "id": "9b96d077",
   "metadata": {},
   "outputs": [],
   "source": [
    "new_list = ['i' + x for x in 'animals']\n",
    "print(new_list)"
   ]
  },
  {
   "cell_type": "code",
   "execution_count": null,
   "id": "317ace31",
   "metadata": {},
   "outputs": [],
   "source": [
    "number = [1, 2, 3]\n",
    "square = [x * x for x in number]\n",
    "print(square)"
   ]
  },
  {
   "cell_type": "code",
   "execution_count": null,
   "id": "38e789d7",
   "metadata": {},
   "outputs": [],
   "source": [
    "number = [1, 2, 3]\n",
    "square_odd = [x * x for x in number if x % 2 == 1]\n",
    "print(square)"
   ]
  },
  {
   "cell_type": "code",
   "execution_count": null,
   "id": "4deb7a5b",
   "metadata": {},
   "outputs": [],
   "source": [
    "number = []\n",
    "a=number.append(1)\n",
    "print(number)\n",
    "print(a)"
   ]
  },
  {
   "cell_type": "code",
   "execution_count": 3,
   "id": "7ef003bd",
   "metadata": {},
   "outputs": [],
   "source": [
    "strings = [\"8.9\", \"6.0\", \"8.1\", \"7.5\"]\n",
    "floats = [float(num) for num in strings]"
   ]
  },
  {
   "cell_type": "code",
   "execution_count": 4,
   "id": "cbc0d8b2",
   "metadata": {},
   "outputs": [
    {
     "name": "stdout",
     "output_type": "stream",
     "text": [
      "[8.9, 6.0, 8.1, 7.5]\n"
     ]
    }
   ],
   "source": [
    "print(floats)"
   ]
  },
  {
   "cell_type": "code",
   "execution_count": 5,
   "id": "dc7a4064",
   "metadata": {},
   "outputs": [
    {
     "name": "stdout",
     "output_type": "stream",
     "text": [
      "['fully', 'happy', 'rainy']\n"
     ]
    }
   ],
   "source": [
    "text = ['fully', 'happy', 'rainy']\n",
    "word_y = [word for word in text if word.endswith('y')]\n",
    "print(word_y)"
   ]
  },
  {
   "cell_type": "code",
   "execution_count": 8,
   "id": "7f2f65df",
   "metadata": {},
   "outputs": [
    {
     "name": "stdout",
     "output_type": "stream",
     "text": [
      "['fully', 'happy', 'rainy']\n"
     ]
    }
   ],
   "source": [
    "text = ['fully', 'happy', 'rainy']\n",
    "word_y = [word if word.endswith('y') else '' for word in text]\n",
    "print(word_y)"
   ]
  },
  {
   "cell_type": "code",
   "execution_count": 7,
   "id": "54e4ab95",
   "metadata": {},
   "outputs": [
    {
     "name": "stdout",
     "output_type": "stream",
     "text": [
      "[1, 2, 3, 0, 0, 0]\n"
     ]
    }
   ],
   "source": [
    "numbers = [1, 2, 3, -1, -2, -3]\n",
    "positive = [num if num >=0 else 0 for num in numbers]\n",
    "print(positive)"
   ]
  },
  {
   "cell_type": "code",
   "execution_count": 10,
   "id": "5eab1f84",
   "metadata": {},
   "outputs": [
    {
     "name": "stdout",
     "output_type": "stream",
     "text": [
      "[5, 2, 5, 7, 10, 5, 10]\n"
     ]
    }
   ],
   "source": [
    "words = [\"apple\", \"it\", \"creek\", \"pelican\", \"subsequent\", \"horse\", \"apothecary\"]\n",
    "lengths =[]\n",
    "for word in words:\n",
    "    count = 0\n",
    "    for i in word:\n",
    "        count +=1\n",
    "    lengths.append(count)\n",
    "print(lengths)"
   ]
  },
  {
   "cell_type": "code",
   "execution_count": 11,
   "id": "e4153eed",
   "metadata": {},
   "outputs": [
    {
     "name": "stdout",
     "output_type": "stream",
     "text": [
      "[5, 2, 5, 7, 10, 5, 10]\n"
     ]
    }
   ],
   "source": [
    "words = [\"apple\", \"it\", \"creek\", \"pelican\", \"subsequent\", \"horse\", \"apothecary\"]\n",
    "lengths = [len(word) for word in words]\n",
    "print(lengths)"
   ]
  },
  {
   "cell_type": "code",
   "execution_count": 27,
   "id": "b1dba760",
   "metadata": {},
   "outputs": [
    {
     "name": "stdout",
     "output_type": "stream",
     "text": [
      "1 2 3\n"
     ]
    }
   ],
   "source": [
    "my_numbers = [int(x) for x in input().split(\" \")]"
   ]
  },
  {
   "cell_type": "code",
   "execution_count": 28,
   "id": "8383eaae",
   "metadata": {},
   "outputs": [
    {
     "name": "stdout",
     "output_type": "stream",
     "text": [
      "[1, 2, 3]\n"
     ]
    }
   ],
   "source": [
    "print(my_numbers)"
   ]
  },
  {
   "cell_type": "code",
   "execution_count": 31,
   "id": "5ee5b9ef",
   "metadata": {},
   "outputs": [
    {
     "name": "stdout",
     "output_type": "stream",
     "text": [
      "123\n"
     ]
    }
   ],
   "source": [
    "my_numbers = [int(x) for x in input()]"
   ]
  },
  {
   "cell_type": "code",
   "execution_count": 32,
   "id": "f503cffa",
   "metadata": {},
   "outputs": [
    {
     "name": "stdout",
     "output_type": "stream",
     "text": [
      "animals\n"
     ]
    }
   ],
   "source": [
    "my_words = [x for x in input()]"
   ]
  },
  {
   "cell_type": "code",
   "execution_count": 33,
   "id": "f502a447",
   "metadata": {},
   "outputs": [
    {
     "name": "stdout",
     "output_type": "stream",
     "text": [
      "['a', 'n', 'i', 'm', 'a', 'l', 's']\n"
     ]
    }
   ],
   "source": [
    "print(my_words)"
   ]
  },
  {
   "cell_type": "code",
   "execution_count": 1,
   "id": "daed1db5",
   "metadata": {},
   "outputs": [
    {
     "name": "stdout",
     "output_type": "stream",
     "text": [
      "['d', 'e']\n"
     ]
    }
   ],
   "source": [
    "nested_letters = ['a', 'b', 'c', ['d', 'e']]\n",
    "print(nested_letters[3])"
   ]
  },
  {
   "cell_type": "code",
   "execution_count": 2,
   "id": "0936a808",
   "metadata": {},
   "outputs": [
    {
     "name": "stdout",
     "output_type": "stream",
     "text": [
      "d\n"
     ]
    }
   ],
   "source": [
    "print(nested_letters[3][0])"
   ]
  },
  {
   "cell_type": "code",
   "execution_count": 3,
   "id": "8bb87941",
   "metadata": {},
   "outputs": [
    {
     "name": "stdout",
     "output_type": "stream",
     "text": [
      "[[1, 2, 3], [4, 5, 6], [7, 8, 9]]\n"
     ]
    }
   ],
   "source": [
    "matrix = [[1,2,3],[4,5,6],[7,8,9]]\n",
    "print(matrix)"
   ]
  },
  {
   "cell_type": "code",
   "execution_count": 4,
   "id": "52453bff",
   "metadata": {},
   "outputs": [
    {
     "name": "stdout",
     "output_type": "stream",
     "text": [
      "6\n"
     ]
    }
   ],
   "source": [
    "print(matrix[1][2])"
   ]
  },
  {
   "cell_type": "code",
   "execution_count": 5,
   "id": "7e2f4e98",
   "metadata": {},
   "outputs": [],
   "source": [
    "school = [[\"Mary\", \"Jack\", \"Tiffany\"], \n",
    "          [\"Brad\", \"Claire\"],\n",
    "          [\"Molly\", \"Andy\", \"Carla\"]]"
   ]
  },
  {
   "cell_type": "code",
   "execution_count": 6,
   "id": "d729a508",
   "metadata": {},
   "outputs": [
    {
     "name": "stdout",
     "output_type": "stream",
     "text": [
      "['Mary', 'Jack', 'Tiffany', 'Brad', 'Claire', 'Molly', 'Andy', 'Carla']\n"
     ]
    }
   ],
   "source": [
    "students_list =[]\n",
    "for class_ in school:\n",
    "    for student in class_:\n",
    "        students_list.append(student)\n",
    "print(students_list)"
   ]
  },
  {
   "cell_type": "code",
   "execution_count": 7,
   "id": "d07d883e",
   "metadata": {},
   "outputs": [
    {
     "name": "stdout",
     "output_type": "stream",
     "text": [
      "['Mary', 'Jack', 'Tiffany', 'Brad', 'Claire', 'Molly', 'Andy', 'Carla']\n"
     ]
    }
   ],
   "source": [
    "students_list = [student for class_ in school for student in class_]\n",
    "print(students_list)"
   ]
  },
  {
   "cell_type": "code",
   "execution_count": 12,
   "id": "7679c730",
   "metadata": {},
   "outputs": [
    {
     "name": "stdout",
     "output_type": "stream",
     "text": [
      "[[0, 1, 2, 3, 4], [0, 1, 2, 3, 4]]\n"
     ]
    }
   ],
   "source": [
    "matrix = [[j for j in range(5)] for i in range(2)]\n",
    "print(matrix)"
   ]
  },
  {
   "cell_type": "code",
   "execution_count": 15,
   "id": "464bb7b8",
   "metadata": {},
   "outputs": [
    {
     "name": "stdout",
     "output_type": "stream",
     "text": [
      "[[0, 1, 2, 3, 4], [0, 1, 2, 3, 4]]\n"
     ]
    }
   ],
   "source": [
    "matrix = []\n",
    "for i in range(2):\n",
    "    matrix.append([])\n",
    "    for j in range(5):\n",
    "        matrix[i].append(j)\n",
    "print(matrix)"
   ]
  },
  {
   "cell_type": "code",
   "execution_count": 17,
   "id": "abdec73a",
   "metadata": {},
   "outputs": [
    {
     "name": "stdout",
     "output_type": "stream",
     "text": [
      "2\n",
      "[[1, 2], [1, 2]]\n"
     ]
    }
   ],
   "source": [
    "n = int(input())\n",
    "\n",
    "my_list =  [[j + 1 for j in range(2)] for i in range(n)]\n",
    "print(my_list)"
   ]
  },
  {
   "cell_type": "code",
   "execution_count": 30,
   "id": "1d903bdc",
   "metadata": {},
   "outputs": [],
   "source": [
    "students = [[\"Jane\", \"B\"], [\"Kate\", \"B\"], [\"Alex\", \"C\"], [\"Elsa\", \"A\"], [\"Max\", \"B\"], [\"Chris\", \"A\"]]\n",
    "best_students = [student[0] for student in students if student[1] == 'A']"
   ]
  },
  {
   "cell_type": "code",
   "execution_count": 31,
   "id": "0094b419",
   "metadata": {},
   "outputs": [
    {
     "name": "stdout",
     "output_type": "stream",
     "text": [
      "['Elsa', 'Chris']\n"
     ]
    }
   ],
   "source": [
    "print(best_students)"
   ]
  },
  {
   "cell_type": "code",
   "execution_count": 32,
   "id": "75a0f960",
   "metadata": {},
   "outputs": [
    {
     "name": "stdout",
     "output_type": "stream",
     "text": [
      "dog\n",
      "cat\n",
      "dragon\n"
     ]
    }
   ],
   "source": [
    "str_1 = input()\n",
    "str_2 = input()\n",
    "str_3 = input()\n",
    "nested_list = [str_1, [str_2], [[str_3]]]"
   ]
  },
  {
   "cell_type": "code",
   "execution_count": 33,
   "id": "cc8b0c9c",
   "metadata": {},
   "outputs": [
    {
     "name": "stdout",
     "output_type": "stream",
     "text": [
      "['dog', ['cat'], [['dragon']]]\n"
     ]
    }
   ],
   "source": [
    "print(nested_list)"
   ]
  },
  {
   "cell_type": "code",
   "execution_count": 34,
   "id": "3967e6f2",
   "metadata": {},
   "outputs": [
    {
     "name": "stdout",
     "output_type": "stream",
     "text": [
      "123\n"
     ]
    }
   ],
   "source": [
    "number = list(input())"
   ]
  },
  {
   "cell_type": "code",
   "execution_count": 49,
   "id": "aa69e4f9",
   "metadata": {},
   "outputs": [
    {
     "name": "stdout",
     "output_type": "stream",
     "text": [
      "12345\n"
     ]
    }
   ],
   "source": [
    "number = list(input())\n",
    "average_number = [(int(number[i]) + int(number[i+1]))/2 for i in range(len(number)-1)]"
   ]
  },
  {
   "cell_type": "code",
   "execution_count": 50,
   "id": "260a8a62",
   "metadata": {},
   "outputs": [
    {
     "name": "stdout",
     "output_type": "stream",
     "text": [
      "[1.5, 2.5, 3.5, 4.5]\n"
     ]
    }
   ],
   "source": [
    "print(average_number)"
   ]
  },
  {
   "cell_type": "code",
   "execution_count": 51,
   "id": "d307abe6",
   "metadata": {},
   "outputs": [
    {
     "name": "stdout",
     "output_type": "stream",
     "text": [
      "_OOOO_X_X\n",
      "---------\n",
      "| _ O O |\n",
      "| O O _ |\n",
      "| X _ X |\n",
      "---------\n",
      "Impossible\n"
     ]
    }
   ],
   "source": [
    "grid = input()\n",
    "print('---------')\n",
    "print('|',grid[0],grid[1],grid[2],'|')\n",
    "print('|',grid[3],grid[4],grid[5],'|')\n",
    "print('|',grid[6],grid[7],grid[8],'|')\n",
    "print('---------')\n",
    "count_x = 0\n",
    "count_i = 0\n",
    "count_ = 0\n",
    "for i in range(9):\n",
    "    if grid[i] =='X':\n",
    "        count_x += 1\n",
    "    elif grid[i] == 'O':\n",
    "        count_i += 1\n",
    "if abs(count_x - count_i) >1:\n",
    "    print('Impossible')\n",
    "else:\n",
    "    if 'O' == grid[0] == grid[1] == grid[2] or 'O' == grid[3] == grid[4] == grid[5] or 'O' == grid[6] == grid[7] == grid[8] or 'O' == grid[0] == grid[3] == grid[6] or 'O' == grid[1] == grid[4] == grid[7] or 'O' == grid[2] == grid[5] == grid[8] or 'O' == grid[0] == grid[4] == grid[8] or 'O' == grid[2] == grid[4] == grid[6]:\n",
    "        o_win = 'O wins'\n",
    "    else:\n",
    "        o_win = ''\n",
    "    if 'X'== grid[0] == grid[1] == grid[2] or 'X'== grid[3] == grid[4] == grid[5] or 'X'== grid[6] == grid[7] == grid[8] or 'X'== grid[0] == grid[3] == grid[6] or 'X'== grid[1] == grid[4] == grid[7] or 'X'== grid[2] == grid[5] == grid[8] or 'X'== grid[0] == grid[4] == grid[8] or 'X'== grid[2] == grid[4] == grid[6]:\n",
    "        x_win = 'X wins'\n",
    "    else:\n",
    "        x_win = ''\n",
    "    if x_win != '' and o_win != '':\n",
    "        print('Impossible')\n",
    "    else:\n",
    "        if x_win =='X wins':\n",
    "            print('X wins')\n",
    "        elif o_win == 'O wins':\n",
    "            print('O wins')\n",
    "        else:\n",
    "            for i in range(9):\n",
    "                if grid[i] == '_':\n",
    "                   count_ += 1\n",
    "            if count_ >=1:\n",
    "                print('Game not finished')\n",
    "            else:\n",
    "                print('Draw')"
   ]
  },
  {
   "cell_type": "code",
   "execution_count": 52,
   "id": "da26b2a0",
   "metadata": {},
   "outputs": [
    {
     "name": "stdout",
     "output_type": "stream",
     "text": [
      "This\n",
      "is\n",
      "a\n",
      "multi-line\n",
      "string\n"
     ]
    }
   ],
   "source": [
    "print('''This\n",
    "is\n",
    "a\n",
    "multi-line\n",
    "string''')"
   ]
  },
  {
   "cell_type": "code",
   "execution_count": 53,
   "id": "eefbe6be",
   "metadata": {},
   "outputs": [
    {
     "name": "stdout",
     "output_type": "stream",
     "text": [
      "\n",
      "\"How The Grinch Stole Christmas\"\n",
      "Did that stop the old Grinch?\n",
      "No! The Grinch simply said,\n",
      "\"If I can't find a reindeer,\n",
      "I'll make one instead!\"\n",
      "\n"
     ]
    }
   ],
   "source": [
    "print(\"\"\"\n",
    "\"How The Grinch Stole Christmas\"\n",
    "Did that stop the old Grinch?\n",
    "No! The Grinch simply said,\n",
    "\"If I can't find a reindeer,\n",
    "I'll make one instead!\"\n",
    "\"\"\")"
   ]
  },
  {
   "cell_type": "code",
   "execution_count": 54,
   "id": "a27d7f6a",
   "metadata": {},
   "outputs": [
    {
     "name": "stdout",
     "output_type": "stream",
     "text": [
      "\n",
      "\"\"\"\n",
      "THIS IS A STRING\n",
      "\"\"\"\n",
      "\n"
     ]
    }
   ],
   "source": [
    "print(\"\"\"\n",
    "\\\"\"\"\n",
    "THIS IS A STRING\n",
    "\\\"\"\"\n",
    "\"\"\")"
   ]
  },
  {
   "cell_type": "code",
   "execution_count": 57,
   "id": "7c3df2be",
   "metadata": {},
   "outputs": [
    {
     "name": "stdout",
     "output_type": "stream",
     "text": [
      "That's my car\n"
     ]
    }
   ],
   "source": [
    "warning = 'That\\'s my car'\n",
    "print(warning)"
   ]
  },
  {
   "cell_type": "code",
   "execution_count": 58,
   "id": "511c6be0",
   "metadata": {},
   "outputs": [
    {
     "name": "stdout",
     "output_type": "stream",
     "text": [
      "a big\b dog\n"
     ]
    }
   ],
   "source": [
    "print('a big\\b dog')"
   ]
  },
  {
   "cell_type": "code",
   "execution_count": 60,
   "id": "b2107e3a",
   "metadata": {},
   "outputs": [
    {
     "name": "stdout",
     "output_type": "stream",
     "text": [
      "Huajuan YUAN \r",
      "Eva    \n"
     ]
    }
   ],
   "source": [
    "print('Huajuan YUAN \\rEva    ')"
   ]
  },
  {
   "cell_type": "code",
   "execution_count": 61,
   "id": "c718db5d",
   "metadata": {},
   "outputs": [
    {
     "name": "stdout",
     "output_type": "stream",
     "text": [
      "\\\n"
     ]
    }
   ],
   "source": [
    "print('\\\\')"
   ]
  },
  {
   "cell_type": "code",
   "execution_count": 68,
   "id": "66d921f4",
   "metadata": {},
   "outputs": [
    {
     "name": "stdout",
     "output_type": "stream",
     "text": [
      "'I need a pen \\\\ pencil'\n"
     ]
    }
   ],
   "source": [
    "stationery='I need a pen \\\\ pencil'\n",
    "print(repr(stationery))"
   ]
  },
  {
   "cell_type": "code",
   "execution_count": 67,
   "id": "23757317",
   "metadata": {},
   "outputs": [
    {
     "name": "stdout",
     "output_type": "stream",
     "text": [
      "I need a pen \\ pencil\n"
     ]
    }
   ],
   "source": [
    "print(stationery)"
   ]
  },
  {
   "cell_type": "code",
   "execution_count": 63,
   "id": "7e2529b3",
   "metadata": {},
   "outputs": [
    {
     "name": "stdout",
     "output_type": "stream",
     "text": [
      "\\n\n"
     ]
    }
   ],
   "source": [
    "print('\\\\n')"
   ]
  },
  {
   "cell_type": "code",
   "execution_count": 64,
   "id": "78177a96",
   "metadata": {},
   "outputs": [
    {
     "name": "stdout",
     "output_type": "stream",
     "text": [
      "\\^_^/\n"
     ]
    }
   ],
   "source": [
    "face = '\\^_^/'\n",
    "print(face) "
   ]
  },
  {
   "cell_type": "code",
   "execution_count": 65,
   "id": "ddd45bbe",
   "metadata": {},
   "outputs": [
    {
     "name": "stdout",
     "output_type": "stream",
     "text": [
      "'\\\\^_^/'\n"
     ]
    }
   ],
   "source": [
    "print(repr(face))"
   ]
  },
  {
   "cell_type": "code",
   "execution_count": 69,
   "id": "d1f1d372",
   "metadata": {},
   "outputs": [
    {
     "name": "stdout",
     "output_type": "stream",
     "text": [
      "5\n",
      "8\n"
     ]
    }
   ],
   "source": [
    "print(len(face))\n",
    "print(len(repr(face)))"
   ]
  },
  {
   "cell_type": "code",
   "execution_count": 70,
   "id": "6e39f8a7",
   "metadata": {},
   "outputs": [
    {
     "name": "stdout",
     "output_type": "stream",
     "text": [
      "Hello\tWorld!\n"
     ]
    }
   ],
   "source": [
    "print('Hello\\tWorld!') "
   ]
  },
  {
   "cell_type": "code",
   "execution_count": 73,
   "id": "4cdb25a0",
   "metadata": {},
   "outputs": [
    {
     "name": "stdout",
     "output_type": "stream",
     "text": [
      "hello, World!\n",
      "hello, \n",
      "World!\n",
      "13\n",
      "14\n"
     ]
    }
   ],
   "source": [
    "greeting = 'hello, World!'\n",
    "nice_greeting = 'hello, \\nWorld!'\n",
    "print(greeting)\n",
    "print(nice_greeting)\n",
    "print(len(greeting))\n",
    "print(len(nice_greeting))"
   ]
  },
  {
   "cell_type": "code",
   "execution_count": 75,
   "id": "67c6a15e",
   "metadata": {},
   "outputs": [],
   "source": [
    "path = 'C:\\\\Users\\Public\\Desktop\\\\Temporary\\\\Newsletters'.lower()"
   ]
  },
  {
   "cell_type": "code",
   "execution_count": 76,
   "id": "6737930a",
   "metadata": {},
   "outputs": [
    {
     "name": "stdout",
     "output_type": "stream",
     "text": [
      "c:\\users\\public\\desktop\\temporary\\newsletters\n"
     ]
    }
   ],
   "source": [
    "print(path)"
   ]
  },
  {
   "cell_type": "code",
   "execution_count": 77,
   "id": "3e0bf5dc",
   "metadata": {},
   "outputs": [
    {
     "name": "stdout",
     "output_type": "stream",
     "text": [
      "\\\\\n"
     ]
    }
   ],
   "source": [
    "print('\\\\\\\\')"
   ]
  },
  {
   "cell_type": "code",
   "execution_count": 79,
   "id": "731f20ca",
   "metadata": {},
   "outputs": [
    {
     "name": "stdout",
     "output_type": "stream",
     "text": [
      "4\n"
     ]
    }
   ],
   "source": [
    "value = '\\n'\n",
    "print(len(repr(value)))"
   ]
  },
  {
   "cell_type": "code",
   "execution_count": 80,
   "id": "ac63a6b6",
   "metadata": {},
   "outputs": [
    {
     "name": "stdout",
     "output_type": "stream",
     "text": [
      "'\\n'\n"
     ]
    }
   ],
   "source": [
    "print(repr(value))"
   ]
  },
  {
   "cell_type": "code",
   "execution_count": 82,
   "id": "cbbd9077",
   "metadata": {},
   "outputs": [
    {
     "name": "stdout",
     "output_type": "stream",
     "text": [
      "17\n"
     ]
    }
   ],
   "source": [
    "mine = 'That is \\n mine'\n",
    "print(len(repr(mine)))"
   ]
  },
  {
   "cell_type": "code",
   "execution_count": 83,
   "id": "167b9fc4",
   "metadata": {},
   "outputs": [
    {
     "name": "stdout",
     "output_type": "stream",
     "text": [
      "This is a number: 125\n"
     ]
    }
   ],
   "source": [
    "print(\"This is a number:\", 125)  "
   ]
  },
  {
   "cell_type": "code",
   "execution_count": 102,
   "id": "d7c09734",
   "metadata": {},
   "outputs": [
    {
     "name": "stdout",
     "output_type": "stream",
     "text": [
      "2\n"
     ]
    }
   ],
   "source": [
    "number = 2.55\n",
    "print(int(number))"
   ]
  },
  {
   "cell_type": "code",
   "execution_count": 103,
   "id": "7b94fd1b",
   "metadata": {},
   "outputs": [
    {
     "name": "stdout",
     "output_type": "stream",
     "text": [
      "10\n"
     ]
    }
   ],
   "source": [
    "print(int(10.0))"
   ]
  },
  {
   "cell_type": "code",
   "execution_count": 104,
   "id": "ff0332b8",
   "metadata": {},
   "outputs": [
    {
     "name": "stdout",
     "output_type": "stream",
     "text": [
      "10.0\n"
     ]
    }
   ],
   "source": [
    "print(float('10.0'))"
   ]
  },
  {
   "cell_type": "code",
   "execution_count": 105,
   "id": "169a7722",
   "metadata": {},
   "outputs": [
    {
     "name": "stdout",
     "output_type": "stream",
     "text": [
      "<class 'float'>\n"
     ]
    }
   ],
   "source": [
    "print(type(number))"
   ]
  },
  {
   "cell_type": "code",
   "execution_count": 107,
   "id": "31b286e2",
   "metadata": {
    "scrolled": true
   },
   "outputs": [
    {
     "name": "stdout",
     "output_type": "stream",
     "text": [
      "5\n",
      "4.55\n"
     ]
    }
   ],
   "source": [
    "number_int = int(number)\n",
    "sum_number = sum((number, number_int))\n",
    "print(round(sum_number))\n",
    "print(sum_number)"
   ]
  },
  {
   "cell_type": "code",
   "execution_count": 100,
   "id": "dc27ef06",
   "metadata": {},
   "outputs": [
    {
     "name": "stdout",
     "output_type": "stream",
     "text": [
      "6\n"
     ]
    }
   ],
   "source": [
    "print(sum((1,2,3)))"
   ]
  },
  {
   "cell_type": "code",
   "execution_count": 111,
   "id": "81c9dc3c",
   "metadata": {},
   "outputs": [
    {
     "name": "stdout",
     "output_type": "stream",
     "text": [
      "<class 'int'>\n"
     ]
    }
   ],
   "source": [
    "max_number = max(1,5,4.1)\n",
    "print(type(max_number))"
   ]
  },
  {
   "cell_type": "code",
   "execution_count": 112,
   "id": "ef7c1eba",
   "metadata": {},
   "outputs": [
    {
     "name": "stdout",
     "output_type": "stream",
     "text": [
      "Help on built-in function sum in module builtins:\n",
      "\n",
      "sum(iterable, /, start=0)\n",
      "    Return the sum of a 'start' value (default: 0) plus an iterable of numbers\n",
      "    \n",
      "    When the iterable is empty, return the start value.\n",
      "    This function is intended specifically for use with numeric values and may\n",
      "    reject non-numeric types.\n",
      "\n"
     ]
    }
   ],
   "source": [
    "help(sum)"
   ]
  },
  {
   "cell_type": "code",
   "execution_count": 119,
   "id": "77a0c899",
   "metadata": {},
   "outputs": [
    {
     "data": {
      "text/plain": [
       "11"
      ]
     },
     "execution_count": 119,
     "metadata": {},
     "output_type": "execute_result"
    }
   ],
   "source": [
    "sum((1,2,3,4),1)"
   ]
  },
  {
   "cell_type": "code",
   "execution_count": 121,
   "id": "87733a5d",
   "metadata": {},
   "outputs": [
    {
     "name": "stdout",
     "output_type": "stream",
     "text": [
      "2\n"
     ]
    }
   ],
   "source": [
    "print(len('12'))"
   ]
  },
  {
   "cell_type": "code",
   "execution_count": 125,
   "id": "24f40876",
   "metadata": {},
   "outputs": [
    {
     "data": {
      "text/plain": [
       "'john'"
      ]
     },
     "execution_count": 125,
     "metadata": {},
     "output_type": "execute_result"
    }
   ],
   "source": [
    "min('tom', 'sam', 'john')"
   ]
  },
  {
   "cell_type": "code",
   "execution_count": 1,
   "id": "19ab88b7",
   "metadata": {},
   "outputs": [],
   "source": [
    "def multify(x,y):\n",
    "    return(x*y)"
   ]
  },
  {
   "cell_type": "code",
   "execution_count": 2,
   "id": "2203191e",
   "metadata": {},
   "outputs": [
    {
     "data": {
      "text/plain": [
       "8"
      ]
     },
     "execution_count": 2,
     "metadata": {},
     "output_type": "execute_result"
    }
   ],
   "source": [
    "multify(2,4)"
   ]
  },
  {
   "cell_type": "code",
   "execution_count": 3,
   "id": "2192f465",
   "metadata": {},
   "outputs": [],
   "source": [
    "def welcome():\n",
    "    return('hello!')"
   ]
  },
  {
   "cell_type": "code",
   "execution_count": 4,
   "id": "824091ad",
   "metadata": {},
   "outputs": [
    {
     "data": {
      "text/plain": [
       "'hello!'"
      ]
     },
     "execution_count": 4,
     "metadata": {},
     "output_type": "execute_result"
    }
   ],
   "source": [
    "welcome()"
   ]
  },
  {
   "cell_type": "code",
   "execution_count": 7,
   "id": "63142e99",
   "metadata": {},
   "outputs": [],
   "source": [
    "def send_postcard(address, message):\n",
    "    print('send a postcard to', address)\n",
    "    print('with a message:', message)"
   ]
  },
  {
   "cell_type": "code",
   "execution_count": 9,
   "id": "a663c333",
   "metadata": {},
   "outputs": [
    {
     "name": "stdout",
     "output_type": "stream",
     "text": [
      "send a postcard to Renens\n",
      "with a message: have a nice day\n"
     ]
    }
   ],
   "source": [
    "send_postcard('Renens', 'have a nice day')"
   ]
  },
  {
   "cell_type": "code",
   "execution_count": 15,
   "id": "ac44933b",
   "metadata": {},
   "outputs": [
    {
     "name": "stdout",
     "output_type": "stream",
     "text": [
      "send a postcard to Renens\n",
      "with a message: have a nice day\n",
      "None\n"
     ]
    }
   ],
   "source": [
    "#   If your function doesn't return anything, assigning its result to a variable or printing it will give you None.\n",
    "print(send_postcard('Renens', 'have a nice day'))"
   ]
  },
  {
   "cell_type": "code",
   "execution_count": 13,
   "id": "cec0e705",
   "metadata": {},
   "outputs": [
    {
     "name": "stdout",
     "output_type": "stream",
     "text": [
      "212.0\n"
     ]
    }
   ],
   "source": [
    "def celsius_to_fahrenheit(temps_c):\n",
    "    temps_f = temps_c * 9 / 5 + 32\n",
    "    return round(temps_f, 2)\n",
    "#   we've stored the value returned by our function in the variable water_bp\n",
    "water_bp = celsius_to_fahrenheit(100)\n",
    "print(water_bp)"
   ]
  },
  {
   "cell_type": "code",
   "execution_count": 14,
   "id": "0cf29baa",
   "metadata": {},
   "outputs": [
    {
     "name": "stdout",
     "output_type": "stream",
     "text": [
      "4\n",
      "None\n"
     ]
    }
   ],
   "source": [
    "print_value = print(2 * 2)\n",
    "print(print_value) #  functions do not necessarily have return values, such as print."
   ]
  },
  {
   "cell_type": "code",
   "execution_count": 16,
   "id": "4668387a",
   "metadata": {},
   "outputs": [],
   "source": [
    "import math"
   ]
  },
  {
   "cell_type": "code",
   "execution_count": 17,
   "id": "c4049edd",
   "metadata": {},
   "outputs": [
    {
     "data": {
      "text/plain": [
       "6"
      ]
     },
     "execution_count": 17,
     "metadata": {},
     "output_type": "execute_result"
    }
   ],
   "source": [
    "math.factorial(3)"
   ]
  },
  {
   "cell_type": "code",
   "execution_count": 27,
   "id": "2ab130b1",
   "metadata": {},
   "outputs": [],
   "source": [
    "import math\n",
    "def factorial(x):\n",
    "    print(\"Don't cheat!\")\n",
    "math.factorial=factorial"
   ]
  },
  {
   "cell_type": "code",
   "execution_count": 28,
   "id": "6bff3fca",
   "metadata": {},
   "outputs": [
    {
     "name": "stdout",
     "output_type": "stream",
     "text": [
      "Don't cheat!\n"
     ]
    }
   ],
   "source": [
    "math.factorial(3)"
   ]
  },
  {
   "cell_type": "code",
   "execution_count": 29,
   "id": "234a121f",
   "metadata": {},
   "outputs": [],
   "source": [
    "def captain_name(name):\n",
    "    print('Captain', name)"
   ]
  },
  {
   "cell_type": "code",
   "execution_count": 31,
   "id": "4f1dec3b",
   "metadata": {},
   "outputs": [
    {
     "name": "stdout",
     "output_type": "stream",
     "text": [
      "Captain Xiaojuan\n"
     ]
    }
   ],
   "source": [
    "captain_name('Xiaojuan')"
   ]
  },
  {
   "cell_type": "code",
   "execution_count": 32,
   "id": "83197b13",
   "metadata": {},
   "outputs": [
    {
     "name": "stdout",
     "output_type": "stream",
     "text": [
      "Xiaojuan\n",
      "Captain Xiaojuan\n"
     ]
    }
   ],
   "source": [
    "captain_name(input())"
   ]
  },
  {
   "cell_type": "code",
   "execution_count": 33,
   "id": "88138757",
   "metadata": {},
   "outputs": [],
   "source": [
    "phrase = 'I am hungry'\n",
    "def global_phrase():\n",
    "    print(phrase)"
   ]
  },
  {
   "cell_type": "code",
   "execution_count": 34,
   "id": "e9bdf15c",
   "metadata": {},
   "outputs": [
    {
     "name": "stdout",
     "output_type": "stream",
     "text": [
      "I am hungry\n",
      "I am hungry\n"
     ]
    }
   ],
   "source": [
    "print(phrase)\n",
    "global_phrase()"
   ]
  },
  {
   "cell_type": "code",
   "execution_count": 36,
   "id": "f4c7d6d0",
   "metadata": {},
   "outputs": [],
   "source": [
    "def local_phrase():\n",
    "    phrase_local = 'I am not hungry'\n",
    "    print(phrase_local)"
   ]
  },
  {
   "cell_type": "code",
   "execution_count": 37,
   "id": "ea06c85f",
   "metadata": {},
   "outputs": [
    {
     "ename": "NameError",
     "evalue": "name 'phrase_local' is not defined",
     "output_type": "error",
     "traceback": [
      "\u001b[1;31m---------------------------------------------------------------------------\u001b[0m",
      "\u001b[1;31mNameError\u001b[0m                                 Traceback (most recent call last)",
      "\u001b[1;32m<ipython-input-37-4241ac09f37d>\u001b[0m in \u001b[0;36m<module>\u001b[1;34m\u001b[0m\n\u001b[1;32m----> 1\u001b[1;33m \u001b[0mprint\u001b[0m\u001b[1;33m(\u001b[0m\u001b[0mphrase_local\u001b[0m\u001b[1;33m)\u001b[0m\u001b[1;33m\u001b[0m\u001b[1;33m\u001b[0m\u001b[0m\n\u001b[0m",
      "\u001b[1;31mNameError\u001b[0m: name 'phrase_local' is not defined"
     ]
    }
   ],
   "source": [
    "print(phrase_local)"
   ]
  },
  {
   "cell_type": "code",
   "execution_count": 38,
   "id": "242ed355",
   "metadata": {},
   "outputs": [
    {
     "name": "stdout",
     "output_type": "stream",
     "text": [
      "I am not hungry\n"
     ]
    }
   ],
   "source": [
    "local_phrase()"
   ]
  },
  {
   "cell_type": "code",
   "execution_count": 39,
   "id": "151c18ac",
   "metadata": {},
   "outputs": [
    {
     "name": "stdout",
     "output_type": "stream",
     "text": [
      "func local\n"
     ]
    }
   ],
   "source": [
    "x = \"global\"\n",
    "def outer():\n",
    "    x = \"outer local\"\n",
    "    def inner():\n",
    "        x = \"inner local\"\n",
    "        def func():\n",
    "            x = \"func local\"\n",
    "            print(x)\n",
    "        func()\n",
    "    inner()\n",
    "\n",
    "outer() "
   ]
  },
  {
   "cell_type": "code",
   "execution_count": 40,
   "id": "907d6281",
   "metadata": {},
   "outputs": [
    {
     "name": "stdout",
     "output_type": "stream",
     "text": [
      "inner local\n"
     ]
    }
   ],
   "source": [
    "x = \"global\"\n",
    "def outer():\n",
    "    x = \"outer local\"\n",
    "    def inner():\n",
    "        x = \"inner local\"\n",
    "        def func():\n",
    "            print(x)\n",
    "        func()\n",
    "    inner()\n",
    "\n",
    "outer() "
   ]
  },
  {
   "cell_type": "code",
   "execution_count": 41,
   "id": "bf9aa96e",
   "metadata": {},
   "outputs": [
    {
     "name": "stdout",
     "output_type": "stream",
     "text": [
      "global\n"
     ]
    }
   ],
   "source": [
    "x = \"global\"\n",
    "def outer():\n",
    "    def inner():\n",
    "        def func():\n",
    "            print(x)\n",
    "        func()\n",
    "    inner()\n",
    "\n",
    "outer() "
   ]
  },
  {
   "cell_type": "code",
   "execution_count": 43,
   "id": "dae683b4",
   "metadata": {},
   "outputs": [
    {
     "name": "stdout",
     "output_type": "stream",
     "text": [
      "1\n"
     ]
    }
   ],
   "source": [
    "x = 1\n",
    "def global_number():\n",
    "    print(x)\n",
    "global_number()"
   ]
  },
  {
   "cell_type": "code",
   "execution_count": 53,
   "id": "df12c15d",
   "metadata": {},
   "outputs": [],
   "source": [
    "def local_number():\n",
    "    global x\n",
    "    print(x)\n",
    "    x = x + 1"
   ]
  },
  {
   "cell_type": "code",
   "execution_count": 54,
   "id": "ab54103d",
   "metadata": {},
   "outputs": [
    {
     "name": "stdout",
     "output_type": "stream",
     "text": [
      "5\n",
      "6\n",
      "7\n"
     ]
    }
   ],
   "source": [
    "local_number()\n",
    "local_number()\n",
    "local_number()"
   ]
  },
  {
   "cell_type": "code",
   "execution_count": 55,
   "id": "ccacf1fc",
   "metadata": {},
   "outputs": [
    {
     "name": "stdout",
     "output_type": "stream",
     "text": [
      "inner: 2\n",
      "outer: 1\n"
     ]
    }
   ],
   "source": [
    "def outer():\n",
    "    x = 1\n",
    "    def inner():\n",
    "        x = 2\n",
    "        print('inner:', x)\n",
    "    inner()\n",
    "    print('outer:', x)\n",
    "outer()"
   ]
  },
  {
   "cell_type": "code",
   "execution_count": 57,
   "id": "e6c6a343",
   "metadata": {},
   "outputs": [
    {
     "name": "stdout",
     "output_type": "stream",
     "text": [
      "inner: 2\n",
      "outer: 2\n"
     ]
    }
   ],
   "source": [
    "def outer():\n",
    "    x = 1\n",
    "    def inner():\n",
    "        nonlocal x\n",
    "        x = 2\n",
    "        print('inner:', x)\n",
    "    inner()\n",
    "    print('outer:', x)\n",
    "outer()"
   ]
  },
  {
   "cell_type": "code",
   "execution_count": 60,
   "id": "99b98be5",
   "metadata": {},
   "outputs": [
    {
     "name": "stdout",
     "output_type": "stream",
     "text": [
      "Mary\n"
     ]
    }
   ],
   "source": [
    "name = \"John\"\n",
    "\n",
    "def change_name(new_name):\n",
    "    global name\n",
    "    name = new_name\n",
    "change_name(\"Mary\")\n",
    "print(name)"
   ]
  },
  {
   "cell_type": "code",
   "execution_count": 2,
   "id": "e169ae87",
   "metadata": {},
   "outputs": [
    {
     "name": "stdout",
     "output_type": "stream",
     "text": [
      "THE MOON IS BEAUTIFUL TONIGHT!\n"
     ]
    }
   ],
   "source": [
    "message = 'The moon is beautiful tonight!'\n",
    "print(message.upper())"
   ]
  },
  {
   "cell_type": "code",
   "execution_count": 4,
   "id": "76da5366",
   "metadata": {},
   "outputs": [
    {
     "name": "stdout",
     "output_type": "stream",
     "text": [
      "the moon is beautiful tonight!\n"
     ]
    }
   ],
   "source": [
    "print(message.lower())"
   ]
  },
  {
   "cell_type": "code",
   "execution_count": 5,
   "id": "f6d9aaf7",
   "metadata": {},
   "outputs": [
    {
     "name": "stdout",
     "output_type": "stream",
     "text": [
      "The Moon Is Beautiful Tonight!\n"
     ]
    }
   ],
   "source": [
    "print(message.title())"
   ]
  },
  {
   "cell_type": "code",
   "execution_count": 6,
   "id": "cce2be21",
   "metadata": {},
   "outputs": [
    {
     "name": "stdout",
     "output_type": "stream",
     "text": [
      "tHE MOON IS BEAUTIFUL TONIGHT!\n"
     ]
    }
   ],
   "source": [
    "print(message.swapcase())"
   ]
  },
  {
   "cell_type": "code",
   "execution_count": 7,
   "id": "a1aa98f3",
   "metadata": {},
   "outputs": [
    {
     "name": "stdout",
     "output_type": "stream",
     "text": [
      "The moon is beautiful tonight!\n"
     ]
    }
   ],
   "source": [
    "print(message.capitalize())"
   ]
  },
  {
   "cell_type": "code",
   "execution_count": 12,
   "id": "04b2bc4d",
   "metadata": {},
   "outputs": [
    {
     "name": "stdout",
     "output_type": "stream",
     "text": [
      "The star is beautiful tonight!\n"
     ]
    }
   ],
   "source": [
    "print(message.replace(\"moon\", \"star\"))"
   ]
  },
  {
   "cell_type": "code",
   "execution_count": 15,
   "id": "b3dc0c91",
   "metadata": {},
   "outputs": [
    {
     "name": "stdout",
     "output_type": "stream",
     "text": [
      "The maan is beautiful tonight!\n"
     ]
    }
   ],
   "source": [
    "print(message.replace('o', 'a', 2))"
   ]
  },
  {
   "cell_type": "code",
   "execution_count": 17,
   "id": "069a195b",
   "metadata": {},
   "outputs": [
    {
     "name": "stdout",
     "output_type": "stream",
     "text": [
      "'hello       '\n"
     ]
    }
   ],
   "source": [
    "whitespace_string = '     hello       '\n",
    "normal_string = 'sustainability'\n",
    "leftstrip = whitespace_string.lstrip()\n",
    "print(repr(leftstrip))"
   ]
  },
  {
   "cell_type": "code",
   "execution_count": 19,
   "id": "16c5e405",
   "metadata": {},
   "outputs": [
    {
     "name": "stdout",
     "output_type": "stream",
     "text": [
      "'     hello'\n"
     ]
    }
   ],
   "source": [
    "rightstrip = whitespace_string.rstrip()\n",
    "print(repr(rightstrip))"
   ]
  },
  {
   "cell_type": "code",
   "execution_count": 22,
   "id": "67dd1eab",
   "metadata": {},
   "outputs": [
    {
     "name": "stdout",
     "output_type": "stream",
     "text": [
      "'ustainability'\n"
     ]
    }
   ],
   "source": [
    "leftstrip_sy = normal_string.lstrip('sy')\n",
    "print(repr(leftstrip_sy))"
   ]
  },
  {
   "cell_type": "code",
   "execution_count": 23,
   "id": "2ffc99fe",
   "metadata": {},
   "outputs": [
    {
     "name": "stdout",
     "output_type": "stream",
     "text": [
      "'sustainabilit'\n"
     ]
    }
   ],
   "source": [
    "rightstrip_sy = normal_string.rstrip('sy')\n",
    "print(repr(rightstrip_sy))"
   ]
  },
  {
   "cell_type": "code",
   "execution_count": 24,
   "id": "6f24c1a7",
   "metadata": {},
   "outputs": [
    {
     "name": "stdout",
     "output_type": "stream",
     "text": [
      "'ustainabilit'\n"
     ]
    }
   ],
   "source": [
    "strip_sy = normal_string.strip('sy')\n",
    "print(repr(strip_sy))"
   ]
  },
  {
   "cell_type": "code",
   "execution_count": 27,
   "id": "e32e4f8f",
   "metadata": {},
   "outputs": [
    {
     "name": "stdout",
     "output_type": "stream",
     "text": [
      "'i'\n"
     ]
    }
   ],
   "source": [
    "new_word = 'sunninuns'\n",
    "strip_unns = new_word.strip('unns')\n",
    "print(repr(strip_unns))"
   ]
  },
  {
   "cell_type": "code",
   "execution_count": 28,
   "id": "01ac8299",
   "metadata": {},
   "outputs": [
    {
     "name": "stdout",
     "output_type": "stream",
     "text": [
      "M\n"
     ]
    }
   ],
   "source": [
    "word = \"Mississippi\"\n",
    "print(word.rstrip(\"ips\"))"
   ]
  },
  {
   "cell_type": "code",
   "execution_count": 29,
   "id": "75d9a1a3",
   "metadata": {},
   "outputs": [
    {
     "name": "stdout",
     "output_type": "stream",
     "text": [
      "Mississippi\n"
     ]
    }
   ],
   "source": [
    "print(word.lstrip(\"ips\")) "
   ]
  },
  {
   "cell_type": "code",
   "execution_count": 30,
   "id": "722e9e7d",
   "metadata": {},
   "outputs": [
    {
     "name": "stdout",
     "output_type": "stream",
     "text": [
      "\n"
     ]
    }
   ],
   "source": [
    "print(word.strip(\"Mips\"))"
   ]
  },
  {
   "cell_type": "code",
   "execution_count": 33,
   "id": "70c5b5e7",
   "metadata": {},
   "outputs": [
    {
     "name": "stdout",
     "output_type": "stream",
     "text": [
      "The moon is beaupiful ponighp!\n"
     ]
    }
   ],
   "source": [
    "print(message.replace('t', 'p')) #  Case sensitive"
   ]
  },
  {
   "cell_type": "code",
   "execution_count": 34,
   "id": "1cf984aa",
   "metadata": {},
   "outputs": [
    {
     "name": "stdout",
     "output_type": "stream",
     "text": [
      "lion\n",
      "LION\n"
     ]
    }
   ],
   "source": [
    "film_name = input()\n",
    "print(film_name.upper())"
   ]
  },
  {
   "cell_type": "code",
   "execution_count": 35,
   "id": "e0b31386",
   "metadata": {},
   "outputs": [
    {
     "name": "stdout",
     "output_type": "stream",
     "text": [
      "Coin of the realm is the legal money of the country\n"
     ]
    }
   ],
   "source": [
    "definition = input()"
   ]
  },
  {
   "cell_type": "code",
   "execution_count": 36,
   "id": "331af44d",
   "metadata": {},
   "outputs": [],
   "source": [
    "def_list = definition.split()"
   ]
  },
  {
   "cell_type": "code",
   "execution_count": 37,
   "id": "22be670f",
   "metadata": {},
   "outputs": [
    {
     "name": "stdout",
     "output_type": "stream",
     "text": [
      "['Coin', 'of', 'the', 'realm', 'is', 'the', 'legal', 'money', 'of', 'the', 'country']\n"
     ]
    }
   ],
   "source": [
    "print(def_list)"
   ]
  },
  {
   "cell_type": "code",
   "execution_count": 38,
   "id": "28da32a6",
   "metadata": {},
   "outputs": [
    {
     "name": "stdout",
     "output_type": "stream",
     "text": [
      "['Coin of the realm is the legal ', ' of the country']\n"
     ]
    }
   ],
   "source": [
    "def_list_money = definition.split(\"money\")\n",
    "print(def_list_money)"
   ]
  },
  {
   "cell_type": "code",
   "execution_count": 39,
   "id": "ce559133",
   "metadata": {},
   "outputs": [
    {
     "name": "stdout",
     "output_type": "stream",
     "text": [
      "['Coin ', ' the realm is the legal money of the country']\n"
     ]
    }
   ],
   "source": [
    "def_list_of = definition.split('of', 1)\n",
    "print(def_list_of)"
   ]
  },
  {
   "cell_type": "code",
   "execution_count": 40,
   "id": "d1890bb7",
   "metadata": {},
   "outputs": [
    {
     "name": "stdout",
     "output_type": "stream",
     "text": [
      "['Coin ', ' the realm is the legal money ', ' the country']\n"
     ]
    }
   ],
   "source": [
    "def_list_of2 = definition.split('of', 2)\n",
    "print(def_list_of2)"
   ]
  },
  {
   "cell_type": "code",
   "execution_count": 43,
   "id": "2aacb8d0",
   "metadata": {},
   "outputs": [
    {
     "name": "stdout",
     "output_type": "stream",
     "text": [
      "['Coin of the realm is the legal money of the country']\n"
     ]
    }
   ],
   "source": [
    "def_list_wrong = definition.split(\"hello\")\n",
    "print(def_list_wrong)"
   ]
  },
  {
   "cell_type": "code",
   "execution_count": 44,
   "id": "156810f7",
   "metadata": {},
   "outputs": [
    {
     "name": "stdout",
     "output_type": "stream",
     "text": [
      "Huajuan Yuan\n"
     ]
    }
   ],
   "source": [
    "name, surname = input().split()"
   ]
  },
  {
   "cell_type": "code",
   "execution_count": 45,
   "id": "b912b7cc",
   "metadata": {},
   "outputs": [
    {
     "name": "stdout",
     "output_type": "stream",
     "text": [
      "Huajuan\n",
      "Yuan\n"
     ]
    }
   ],
   "source": [
    "print(name)\n",
    "print(surname)"
   ]
  },
  {
   "cell_type": "code",
   "execution_count": 46,
   "id": "c381d3a6",
   "metadata": {},
   "outputs": [],
   "source": [
    "my_name = 'Huajuan YUAN'\n",
    "name, surname = my_name.split()"
   ]
  },
  {
   "cell_type": "code",
   "execution_count": 47,
   "id": "7e79c588",
   "metadata": {},
   "outputs": [
    {
     "name": "stdout",
     "output_type": "stream",
     "text": [
      "Huajuan YUAN\n"
     ]
    }
   ],
   "source": [
    "print(name,surname)"
   ]
  },
  {
   "cell_type": "code",
   "execution_count": 54,
   "id": "4dae897e",
   "metadata": {},
   "outputs": [],
   "source": [
    "new_list = ['I', 'like', 'singing', 'and', 'dancing!']\n",
    "new_var = ' '.join(new_list)"
   ]
  },
  {
   "cell_type": "code",
   "execution_count": 55,
   "id": "b70a6321",
   "metadata": {},
   "outputs": [
    {
     "name": "stdout",
     "output_type": "stream",
     "text": [
      "I like singing and dancing!\n"
     ]
    }
   ],
   "source": [
    "print(new_var)"
   ]
  },
  {
   "cell_type": "code",
   "execution_count": 56,
   "id": "98d0ca69",
   "metadata": {},
   "outputs": [
    {
     "name": "stdout",
     "output_type": "stream",
     "text": [
      "I like singing and dancing!\n"
     ]
    }
   ],
   "source": [
    "print(new_var.lstrip(' '))"
   ]
  },
  {
   "cell_type": "code",
   "execution_count": 57,
   "id": "97ce077a",
   "metadata": {},
   "outputs": [
    {
     "name": "stdout",
     "output_type": "stream",
     "text": [
      "first line\n",
      "second line\r",
      "third line\r\n",
      "fourth line\n"
     ]
    }
   ],
   "source": [
    "long_text = 'first line\\nsecond line\\rthird line\\r\\nfourth line'\n",
    "print(long_text)"
   ]
  },
  {
   "cell_type": "code",
   "execution_count": 59,
   "id": "56ab6fcf",
   "metadata": {},
   "outputs": [
    {
     "name": "stdout",
     "output_type": "stream",
     "text": [
      "['first line', 'second line', 'third line', 'fourth line']\n"
     ]
    }
   ],
   "source": [
    "print(long_text.splitlines())"
   ]
  },
  {
   "cell_type": "code",
   "execution_count": 62,
   "id": "03bac664",
   "metadata": {},
   "outputs": [
    {
     "name": "stdout",
     "output_type": "stream",
     "text": [
      "['first line', 'second line\\rthird line\\r', 'fourth line']\n"
     ]
    }
   ],
   "source": [
    "print(long_text.split('\\n'))"
   ]
  },
  {
   "cell_type": "code",
   "execution_count": 64,
   "id": "39ed3fc1",
   "metadata": {},
   "outputs": [
    {
     "name": "stdout",
     "output_type": "stream",
     "text": [
      "['first line\\n', 'second line\\r', 'third line\\r\\n', 'fourth line']\n"
     ]
    }
   ],
   "source": [
    "print(long_text.splitlines(keepends = True))"
   ]
  },
  {
   "cell_type": "code",
   "execution_count": 66,
   "id": "3d6bf2c7",
   "metadata": {},
   "outputs": [
    {
     "name": "stdout",
     "output_type": "stream",
     "text": [
      "1\n",
      "22\n",
      "333\n",
      "4444\n",
      "55555\n"
     ]
    }
   ],
   "source": [
    "random_numbers = ['1', '22', '333', '4444', '55555']\n",
    "print(\"\\n\".join(random_numbers))"
   ]
  },
  {
   "cell_type": "code",
   "execution_count": 68,
   "id": "c2b158b2",
   "metadata": {},
   "outputs": [
    {
     "name": "stdout",
     "output_type": "stream",
     "text": [
      "my_class\n",
      "MyClass\n"
     ]
    }
   ],
   "source": [
    "capword = input()\n",
    "print(capword.replace(\"_\", \" \").title().replace(' ', ''))"
   ]
  },
  {
   "cell_type": "code",
   "execution_count": 91,
   "id": "5c9733df",
   "metadata": {},
   "outputs": [
    {
     "name": "stdout",
     "output_type": "stream",
     "text": [
      "-2 -8 -1 -4 6 1 6 -6 5 -7 5\n",
      "5\n",
      "8 10\n"
     ]
    }
   ],
   "source": [
    "number_sequence = input().split(' ')\n",
    "number = input()\n",
    "output_list = []\n",
    "for i in range(len(number_sequence)):\n",
    "    if number_sequence[i] == number:\n",
    "        output_list.append(str(i))\n",
    "if output_list:\n",
    "    print(\" \".join(output_list))\n",
    "else:\n",
    "    print('not found')"
   ]
  },
  {
   "cell_type": "code",
   "execution_count": 79,
   "id": "19d0b3c9",
   "metadata": {},
   "outputs": [
    {
     "name": "stdout",
     "output_type": "stream",
     "text": [
      "<class 'int'>\n"
     ]
    }
   ],
   "source": [
    "print(type(output_list[0]))"
   ]
  },
  {
   "cell_type": "code",
   "execution_count": 89,
   "id": "db4e00a8",
   "metadata": {},
   "outputs": [
    {
     "name": "stdout",
     "output_type": "stream",
     "text": [
      "-2 -3 4\n"
     ]
    }
   ],
   "source": [
    "number = input()"
   ]
  },
  {
   "cell_type": "code",
   "execution_count": 90,
   "id": "1e51bf21",
   "metadata": {},
   "outputs": [
    {
     "name": "stdout",
     "output_type": "stream",
     "text": [
      "'-2 -3 4'\n"
     ]
    }
   ],
   "source": [
    "print(repr(number))"
   ]
  },
  {
   "cell_type": "code",
   "execution_count": 103,
   "id": "83b9a510",
   "metadata": {},
   "outputs": [
    {
     "name": "stdout",
     "output_type": "stream",
     "text": [
      "First ladies rule the State and state the rule: ladies first\n",
      "t\n",
      "11\n"
     ]
    }
   ],
   "source": [
    "word_list = input().split(' ')\n",
    "print(word_list[0][-1])\n",
    "print(len(word_list))"
   ]
  },
  {
   "cell_type": "code",
   "execution_count": 112,
   "id": "42149841",
   "metadata": {},
   "outputs": [
    {
     "name": "stdout",
     "output_type": "stream",
     "text": [
      "First ladies rule the State and state the rule: ladies first  a\n"
     ]
    },
    {
     "ename": "IndexError",
     "evalue": "string index out of range",
     "output_type": "error",
     "traceback": [
      "\u001b[1;31m---------------------------------------------------------------------------\u001b[0m",
      "\u001b[1;31mIndexError\u001b[0m                                Traceback (most recent call last)",
      "\u001b[1;32m<ipython-input-112-369f6186d7dd>\u001b[0m in \u001b[0;36m<module>\u001b[1;34m\u001b[0m\n\u001b[0;32m      2\u001b[0m \u001b[0ms_list\u001b[0m \u001b[1;33m=\u001b[0m \u001b[1;33m[\u001b[0m\u001b[1;33m]\u001b[0m\u001b[1;33m\u001b[0m\u001b[1;33m\u001b[0m\u001b[0m\n\u001b[0;32m      3\u001b[0m \u001b[1;32mfor\u001b[0m \u001b[0mi\u001b[0m \u001b[1;32min\u001b[0m \u001b[0mrange\u001b[0m\u001b[1;33m(\u001b[0m\u001b[0mlen\u001b[0m\u001b[1;33m(\u001b[0m\u001b[0mword_list\u001b[0m\u001b[1;33m)\u001b[0m\u001b[1;33m)\u001b[0m\u001b[1;33m:\u001b[0m\u001b[1;33m\u001b[0m\u001b[1;33m\u001b[0m\u001b[0m\n\u001b[1;32m----> 4\u001b[1;33m     \u001b[1;32mif\u001b[0m \u001b[0mword_list\u001b[0m\u001b[1;33m[\u001b[0m\u001b[0mi\u001b[0m\u001b[1;33m]\u001b[0m\u001b[1;33m[\u001b[0m\u001b[1;33m-\u001b[0m\u001b[1;36m1\u001b[0m\u001b[1;33m]\u001b[0m \u001b[1;33m==\u001b[0m \u001b[1;34m's'\u001b[0m\u001b[1;33m:\u001b[0m\u001b[1;33m\u001b[0m\u001b[1;33m\u001b[0m\u001b[0m\n\u001b[0m\u001b[0;32m      5\u001b[0m         \u001b[0ms_list\u001b[0m\u001b[1;33m.\u001b[0m\u001b[0mappend\u001b[0m\u001b[1;33m(\u001b[0m\u001b[0mword_list\u001b[0m\u001b[1;33m[\u001b[0m\u001b[0mi\u001b[0m\u001b[1;33m]\u001b[0m\u001b[1;33m)\u001b[0m\u001b[1;33m\u001b[0m\u001b[1;33m\u001b[0m\u001b[0m\n\u001b[0;32m      6\u001b[0m \u001b[0ms_str\u001b[0m \u001b[1;33m=\u001b[0m\u001b[1;34m\"_\"\u001b[0m\u001b[1;33m.\u001b[0m\u001b[0mjoin\u001b[0m\u001b[1;33m(\u001b[0m\u001b[0ms_list\u001b[0m\u001b[1;33m)\u001b[0m\u001b[1;33m\u001b[0m\u001b[1;33m\u001b[0m\u001b[0m\n",
      "\u001b[1;31mIndexError\u001b[0m: string index out of range"
     ]
    }
   ],
   "source": [
    "word_list = input().split(' ')\n",
    "s_list = []\n",
    "for i in range(len(word_list)):\n",
    "    if word_list[i][-1] == 's':\n",
    "        s_list.append(word_list[i])\n",
    "s_str =\"_\".join(s_list)\n",
    "print(s_str)"
   ]
  },
  {
   "cell_type": "code",
   "execution_count": 113,
   "id": "681e49ad",
   "metadata": {},
   "outputs": [
    {
     "name": "stdout",
     "output_type": "stream",
     "text": [
      "a b c  d\n"
     ]
    }
   ],
   "source": [
    "word_list = input().split(' ')"
   ]
  },
  {
   "cell_type": "code",
   "execution_count": 114,
   "id": "dce855bc",
   "metadata": {},
   "outputs": [
    {
     "name": "stdout",
     "output_type": "stream",
     "text": [
      "['a', 'b', 'c', '', 'd']\n"
     ]
    }
   ],
   "source": [
    "print(word_list)"
   ]
  },
  {
   "cell_type": "code",
   "execution_count": 115,
   "id": "f1527dab",
   "metadata": {},
   "outputs": [
    {
     "name": "stdout",
     "output_type": "stream",
     "text": [
      "First ladies rule the State and state the rule: ladies first\n",
      "ladies_ladies\n"
     ]
    }
   ],
   "source": [
    "word_list = input().split(' ')\n",
    "s_list = []\n",
    "for i in range(len(word_list)):\n",
    "    if word_list[i].endswith(\"s\"):\n",
    "        s_list.append(word_list[i])\n",
    "s_str = \"_\".join(s_list)\n",
    "print(s_str)"
   ]
  },
  {
   "cell_type": "code",
   "execution_count": 119,
   "id": "2a9b07d2",
   "metadata": {},
   "outputs": [
    {
     "name": "stdout",
     "output_type": "stream",
     "text": [
      "no melon no lemon\n",
      "n  mel n n  lem n\n",
      "['n', 'mel', 'n', 'n', 'lem', 'n']\n",
      "n omel on on olem on\n"
     ]
    }
   ],
   "source": [
    "text = input()\n",
    "text = text.replace(\"o\", \" \")\n",
    "print(text)\n",
    "text = text.split()\n",
    "print(text)\n",
    "text = \" o\".join(text)\n",
    "print(text)"
   ]
  },
  {
   "cell_type": "code",
   "execution_count": 120,
   "id": "e95a98bd",
   "metadata": {},
   "outputs": [
    {
     "name": "stdout",
     "output_type": "stream",
     "text": [
      "no melon no lemon\n",
      "n  mel n n  lem n\n",
      "['n', '', 'mel', 'n', 'n', '', 'lem', 'n']\n",
      "n o omel on on o olem on\n"
     ]
    }
   ],
   "source": [
    "text = input()\n",
    "text = text.replace(\"o\", \" \")\n",
    "print(text)\n",
    "text = text.split(' ')\n",
    "print(text)\n",
    "text = \" o\".join(text)\n",
    "print(text)"
   ]
  },
  {
   "cell_type": "code",
   "execution_count": 117,
   "id": "fb8d9d25",
   "metadata": {
    "scrolled": true
   },
   "outputs": [
    {
     "name": "stdout",
     "output_type": "stream",
     "text": [
      "n omel on on olem on\n"
     ]
    }
   ],
   "source": [
    "print(text)"
   ]
  },
  {
   "cell_type": "code",
   "execution_count": 118,
   "id": "8d61a6d0",
   "metadata": {},
   "outputs": [
    {
     "name": "stdout",
     "output_type": "stream",
     "text": [
      "a ob o  od\n"
     ]
    }
   ],
   "source": [
    "new_list=['a', 'b', ' ', 'd']\n",
    "join_str=\" o\".join(new_list)\n",
    "print(join_str)"
   ]
  },
  {
   "cell_type": "code",
   "execution_count": 1,
   "id": "26906a12",
   "metadata": {},
   "outputs": [
    {
     "name": "stdout",
     "output_type": "stream",
     "text": [
      "_XXOO_OX_\n",
      "---------\n",
      "| _ X X |\n",
      "| O O _ |\n",
      "| O X _ |\n",
      "---------\n",
      "Game not finished\n"
     ]
    }
   ],
   "source": [
    "grid = input()\n",
    "print('---------')\n",
    "print('|',grid[0],grid[1],grid[2],'|')\n",
    "print('|',grid[3],grid[4],grid[5],'|')\n",
    "print('|',grid[6],grid[7],grid[8],'|')\n",
    "print('---------')\n",
    "coordinates = input().split()\n",
    "if type(coordinates[0]) ==type(coordinates[1]) == 'int':\n",
    "    if coordinate\n",
    "else:\n",
    "    print('You should enter numbers!')\n",
    "count_x = 0\n",
    "count_i = 0\n",
    "count_ = 0\n",
    "for i in range(9):\n",
    "    if grid[i] =='X':\n",
    "        count_x += 1\n",
    "    elif grid[i] == 'O':\n",
    "        count_i += 1\n",
    "if abs(count_x - count_i) >1:\n",
    "    print('Impossible')\n",
    "else:\n",
    "    if 'O' == grid[0] == grid[1] == grid[2] or 'O' == grid[3] == grid[4] == grid[5] or 'O' == grid[6] == grid[7] == grid[8] or 'O' == grid[0] == grid[3] == grid[6] or 'O' == grid[1] == grid[4] == grid[7] or 'O' == grid[2] == grid[5] == grid[8] or 'O' == grid[0] == grid[4] == grid[8] or 'O' == grid[2] == grid[4] == grid[6]:\n",
    "        o_win = 'O wins'\n",
    "    else:\n",
    "        o_win = ''\n",
    "    if 'X'== grid[0] == grid[1] == grid[2] or 'X'== grid[3] == grid[4] == grid[5] or 'X'== grid[6] == grid[7] == grid[8] or 'X'== grid[0] == grid[3] == grid[6] or 'X'== grid[1] == grid[4] == grid[7] or 'X'== grid[2] == grid[5] == grid[8] or 'X'== grid[0] == grid[4] == grid[8] or 'X'== grid[2] == grid[4] == grid[6]:\n",
    "        x_win = 'X wins'\n",
    "    else:\n",
    "        x_win = ''\n",
    "    if x_win != '' and o_win != '':\n",
    "        print('Impossible')\n",
    "    else:\n",
    "        if x_win =='X wins':\n",
    "            print('X wins')\n",
    "        elif o_win == 'O wins':\n",
    "            print('O wins')\n",
    "        else:\n",
    "            for i in range(9):\n",
    "                if grid[i] == '_':\n",
    "                   count_ += 1\n",
    "            if count_ >=1:\n",
    "                print('Game not finished')\n",
    "            else:\n",
    "                print('Draw')"
   ]
  },
  {
   "cell_type": "code",
   "execution_count": 12,
   "id": "83635bd4",
   "metadata": {},
   "outputs": [
    {
     "name": "stdout",
     "output_type": "stream",
     "text": [
      "one\n"
     ]
    }
   ],
   "source": [
    "coordinates = input().split(' ')"
   ]
  },
  {
   "cell_type": "code",
   "execution_count": 13,
   "id": "77c4bc67",
   "metadata": {},
   "outputs": [
    {
     "name": "stdout",
     "output_type": "stream",
     "text": [
      "['one']\n"
     ]
    }
   ],
   "source": [
    "print(coordinates)"
   ]
  },
  {
   "cell_type": "code",
   "execution_count": 14,
   "id": "720e7253",
   "metadata": {},
   "outputs": [
    {
     "name": "stdout",
     "output_type": "stream",
     "text": [
      "<class 'str'>\n"
     ]
    }
   ],
   "source": [
    "print(type(coordinates[0]))"
   ]
  },
  {
   "cell_type": "code",
   "execution_count": 10,
   "id": "324c90d9",
   "metadata": {},
   "outputs": [
    {
     "name": "stdout",
     "output_type": "stream",
     "text": [
      "_XXOO_OX_\n",
      "---------\n",
      "| _ X X |\n",
      "| O O _ |\n",
      "| O X _ |\n",
      "---------\n"
     ]
    }
   ],
   "source": [
    "grid = input()\n",
    "print('---------')\n",
    "print('|',grid[0],grid[1],grid[2],'|')\n",
    "print('|',grid[3],grid[4],grid[5],'|')\n",
    "print('|',grid[6],grid[7],grid[8],'|')\n",
    "print('---------')\n",
    "coordinates_list = [[grid[0], grid[1], grid[2]], [grid[3], grid[4], grid[5]], [grid[6], grid[7], grid[8]]]"
   ]
  },
  {
   "cell_type": "code",
   "execution_count": 1,
   "id": "ccc41f1c",
   "metadata": {},
   "outputs": [
    {
     "name": "stdout",
     "output_type": "stream",
     "text": [
      "_XXOO_OX_\n",
      "---------\n",
      "| _ X X |\n",
      "| O O _ |\n",
      "| O X _ |\n",
      "---------\n",
      "4 1\n",
      "Coordinates should be from 1 to 3!\n",
      "1 4\n",
      "Coordinates should be from 1 to 3!\n",
      "1 1\n",
      "---------\n",
      "| X X X |\n",
      "| O O _ |\n",
      "| O X _ |\n",
      "---------\n"
     ]
    }
   ],
   "source": [
    "grid = input()\n",
    "print('---------')\n",
    "print('|',grid[0],grid[1],grid[2],'|')\n",
    "print('|',grid[3],grid[4],grid[5],'|')\n",
    "print('|',grid[6],grid[7],grid[8],'|')\n",
    "print('---------')\n",
    "coordinates_list = [[grid[0], grid[1], grid[2]], [grid[3], grid[4], grid[5]], [grid[6], grid[7], grid[8]]]\n",
    "while True:\n",
    "    try:\n",
    "        coordinates = input().split()\n",
    "        x = int(coordinates[0])\n",
    "        y = int(coordinates[1])\n",
    "    except:\n",
    "        print('You should enter numbers!')\n",
    "    else:\n",
    "        if 1 <= x <=3 and 1 <= y <=3:\n",
    "            if coordinates_list[x-1][y-1]=='_':\n",
    "                coordinates_list[x-1][y-1] = 'X'\n",
    "                print('---------')\n",
    "                print('|',coordinates_list[0][0],coordinates_list[0][1],coordinates_list[0][2],'|')\n",
    "                print('|',coordinates_list[1][0],coordinates_list[1][1],coordinates_list[1][2],'|')\n",
    "                print('|',coordinates_list[2][0],coordinates_list[2][1],coordinates_list[2][2],'|')\n",
    "                print('---------')\n",
    "                break\n",
    "            else:\n",
    "                print('This cell is occupied! Choose another one!')\n",
    "        else:\n",
    "            print('Coordinates should be from 1 to 3!')\n",
    "    "
   ]
  },
  {
   "cell_type": "code",
   "execution_count": 3,
   "id": "a3fbf34c",
   "metadata": {},
   "outputs": [
    {
     "name": "stdout",
     "output_type": "stream",
     "text": [
      "8\n",
      "2\n",
      "4\n",
      "6\n"
     ]
    }
   ],
   "source": [
    "max_number = int(input())\n",
    "i = 2\n",
    "while i < max_number:\n",
    "    print(i)\n",
    "    i +=2"
   ]
  },
  {
   "cell_type": "code",
   "execution_count": 6,
   "id": "a00d3209",
   "metadata": {},
   "outputs": [
    {
     "name": "stdout",
     "output_type": "stream",
     "text": [
      "dog\n",
      "cat\n"
     ]
    }
   ],
   "source": [
    "pets = ['dog', 'cat', 'rabbit']\n",
    "for pet in pets:\n",
    "    print(pet)\n",
    "    if pet == 'cat':\n",
    "        break"
   ]
  },
  {
   "cell_type": "code",
   "execution_count": 7,
   "id": "4b48f35b",
   "metadata": {},
   "outputs": [
    {
     "name": "stdout",
     "output_type": "stream",
     "text": [
      "dog\n"
     ]
    }
   ],
   "source": [
    "pets = ['dog', 'cat', 'rabbit']\n",
    "for pet in pets:\n",
    "    if pet == 'cat':\n",
    "        break\n",
    "    print(pet)"
   ]
  },
  {
   "cell_type": "code",
   "execution_count": 8,
   "id": "8b39c41e",
   "metadata": {},
   "outputs": [
    {
     "name": "stdout",
     "output_type": "stream",
     "text": [
      "I am Infinite Loop\n",
      "I am Infinite Loop\n",
      "I am Infinite Loop\n",
      "I am Infinite Loop\n",
      "I am Infinite Loop\n",
      "I am Infinite Loop\n",
      "I am Infinite Loop\n",
      "I am Infinite Loop\n",
      "I am Infinite Loop\n",
      "I am Infinite Loop\n",
      "I am Infinite Loop\n",
      "I am Infinite Loop\n",
      "I am Infinite Loop\n"
     ]
    }
   ],
   "source": [
    "count = 0\n",
    "while True:\n",
    "    print(\"I am Infinite Loop\")\n",
    "    count += 1\n",
    "    if count == 13:\n",
    "        break"
   ]
  },
  {
   "cell_type": "code",
   "execution_count": 10,
   "id": "9546ad16",
   "metadata": {},
   "outputs": [
    {
     "name": "stdout",
     "output_type": "stream",
     "text": [
      "dog\n",
      "rabbit\n"
     ]
    }
   ],
   "source": [
    "pets = ['dog', 'cat', 'rabbit']\n",
    "for pet in pets:\n",
    "    if pet == 'cat':\n",
    "        continue\n",
    "    print(pet)"
   ]
  },
  {
   "cell_type": "code",
   "execution_count": 11,
   "id": "32564382",
   "metadata": {},
   "outputs": [
    {
     "name": "stdout",
     "output_type": "stream",
     "text": [
      "cat\n",
      "parrot\n"
     ]
    }
   ],
   "source": [
    "pets = ['dog', 'cat', 'parrot']\n",
    "for pet in pets:\n",
    "    if pet == 'dog':\n",
    "        continue\n",
    "    print(pet)"
   ]
  },
  {
   "cell_type": "code",
   "execution_count": 12,
   "id": "84385d98",
   "metadata": {},
   "outputs": [
    {
     "name": "stdout",
     "output_type": "stream",
     "text": [
      "dog\n",
      "cat\n",
      "parrot\n",
      "We need a turtle!\n"
     ]
    }
   ],
   "source": [
    "pets = ['dog', 'cat', 'parrot']\n",
    "for pet in pets:\n",
    "    print(pet)\n",
    "else:\n",
    "    print('We need a turtle!')"
   ]
  },
  {
   "cell_type": "code",
   "execution_count": 13,
   "id": "3b820d82",
   "metadata": {},
   "outputs": [
    {
     "name": "stdout",
     "output_type": "stream",
     "text": [
      "I'm the happiest human being in the world!\n",
      "I'm the happiest human being in the world!\n",
      "Now I have no pancakes!\n"
     ]
    }
   ],
   "source": [
    "pancakes = 2\n",
    "while pancakes > 0:\n",
    "    print(\"I'm the happiest human being in the world!\")\n",
    "    pancakes -= 1\n",
    "    if pancakes == 0:\n",
    "        print(\"Now I have no pancakes!\")\n",
    "        break\n",
    "else:\n",
    "    print(\"No pancakes...\")"
   ]
  },
  {
   "cell_type": "code",
   "execution_count": 14,
   "id": "147ffd2b",
   "metadata": {},
   "outputs": [
    {
     "name": "stdout",
     "output_type": "stream",
     "text": [
      "No pancakes...\n"
     ]
    }
   ],
   "source": [
    "pancakes = 0\n",
    "while pancakes > 0:\n",
    "    print(\"I'm the happiest human being in the world!\")\n",
    "    pancakes -= 1\n",
    "    if pancakes == 0:\n",
    "        print(\"Now I have no pancakes!\")\n",
    "        break\n",
    "else:\n",
    "    print(\"No pancakes...\")"
   ]
  },
  {
   "cell_type": "code",
   "execution_count": 16,
   "id": "fd60360f",
   "metadata": {},
   "outputs": [
    {
     "name": "stdout",
     "output_type": "stream",
     "text": [
      "I'm the happiest human being in the world!\n",
      "I'm the happiest human being in the world!\n",
      "I'm the happiest human being in the world!\n",
      "No pancakes...\n"
     ]
    }
   ],
   "source": [
    "pancakes = 3\n",
    "while pancakes > 0:\n",
    "    print(\"I'm the happiest human being in the world!\")\n",
    "    pancakes -= 1\n",
    "    if pancakes > 5:\n",
    "        print(\"Now I have no pancakes!\")\n",
    "        break\n",
    "else:\n",
    "    print(\"No pancakes...\")"
   ]
  },
  {
   "cell_type": "code",
   "execution_count": 15,
   "id": "a3de2eb8",
   "metadata": {},
   "outputs": [
    {
     "name": "stdout",
     "output_type": "stream",
     "text": [
      "dog\n",
      "cat\n"
     ]
    }
   ],
   "source": [
    "pets = ['dog', 'cat', 'rabbit']\n",
    "for pet in pets:\n",
    "    print(pet)\n",
    "    if pet == 'cat':\n",
    "        break\n",
    "else:\n",
    "    print('I have a cat!')"
   ]
  },
  {
   "cell_type": "code",
   "execution_count": 37,
   "id": "9b294052",
   "metadata": {},
   "outputs": [
    {
     "name": "stdout",
     "output_type": "stream",
     "text": [
      "1\n",
      "This number is not prime\n"
     ]
    }
   ],
   "source": [
    "number = int(input())\n",
    "if number != 1:\n",
    "    for i in range(1, number+1):\n",
    "        if number % i == 0:\n",
    "            if i in (1, number):\n",
    "                continue\n",
    "            print('This number is not prime')\n",
    "            break\n",
    "    else:\n",
    "        print('This number is prime')\n",
    "else:\n",
    "    print('This number is not prime')"
   ]
  },
  {
   "cell_type": "code",
   "execution_count": 25,
   "id": "6df15fc0",
   "metadata": {},
   "outputs": [],
   "source": [
    "list_range= range(1,5)"
   ]
  },
  {
   "cell_type": "code",
   "execution_count": 26,
   "id": "76943beb",
   "metadata": {},
   "outputs": [
    {
     "name": "stdout",
     "output_type": "stream",
     "text": [
      "range(1, 5)\n"
     ]
    }
   ],
   "source": [
    "print(list_range)"
   ]
  },
  {
   "cell_type": "code",
   "execution_count": 31,
   "id": "71449c49",
   "metadata": {},
   "outputs": [
    {
     "name": "stdout",
     "output_type": "stream",
     "text": [
      "2\n"
     ]
    }
   ],
   "source": [
    "for i in range(2,3):\n",
    "    print(i)"
   ]
  },
  {
   "cell_type": "code",
   "execution_count": 39,
   "id": "74915b37",
   "metadata": {},
   "outputs": [
    {
     "name": "stdout",
     "output_type": "stream",
     "text": [
      "2\n",
      "3\n",
      "4\n",
      "5\n",
      "5\n",
      "132\n"
     ]
    }
   ],
   "source": [
    "while True:\n",
    "    number = int(input())\n",
    "    if number < 10:\n",
    "        continue\n",
    "    elif number > 100:\n",
    "        break\n",
    "    else:\n",
    "        print(number)"
   ]
  },
  {
   "cell_type": "code",
   "execution_count": 40,
   "id": "84b79f42",
   "metadata": {},
   "outputs": [
    {
     "ename": "TypeError",
     "evalue": "type str doesn't define __round__ method",
     "output_type": "error",
     "traceback": [
      "\u001b[1;31m---------------------------------------------------------------------------\u001b[0m",
      "\u001b[1;31mTypeError\u001b[0m                                 Traceback (most recent call last)",
      "\u001b[1;32m<ipython-input-40-f3148558b5d4>\u001b[0m in \u001b[0;36m<module>\u001b[1;34m\u001b[0m\n\u001b[1;32m----> 1\u001b[1;33m \u001b[0mprint\u001b[0m\u001b[1;33m(\u001b[0m\u001b[0mround\u001b[0m\u001b[1;33m(\u001b[0m\u001b[1;34m'seven.two'\u001b[0m\u001b[1;33m)\u001b[0m\u001b[1;33m)\u001b[0m\u001b[1;33m\u001b[0m\u001b[1;33m\u001b[0m\u001b[0m\n\u001b[0m",
      "\u001b[1;31mTypeError\u001b[0m: type str doesn't define __round__ method"
     ]
    }
   ],
   "source": [
    "print(round('seven.two'))"
   ]
  },
  {
   "cell_type": "code",
   "execution_count": 41,
   "id": "322d3c3d",
   "metadata": {},
   "outputs": [],
   "source": [
    "hope = \"I hope this is actually going to work\"\n",
    "doubt = 'Do I need to double check all lines?'\n",
    "suggestion = \"What if I write it in 'double quotes'?\""
   ]
  },
  {
   "cell_type": "code",
   "execution_count": 42,
   "id": "d08b0083",
   "metadata": {},
   "outputs": [
    {
     "name": "stdout",
     "output_type": "stream",
     "text": [
      "I hope this is actually going to work Do I need to double check all lines? What if I write it in 'double quotes'?\n"
     ]
    }
   ],
   "source": [
    "print(hope,doubt,suggestion)"
   ]
  },
  {
   "cell_type": "code",
   "execution_count": 43,
   "id": "8fdc9f9d",
   "metadata": {},
   "outputs": [
    {
     "name": "stdout",
     "output_type": "stream",
     "text": [
      "[1, 3, 5] None\n"
     ]
    }
   ],
   "source": [
    "number = [1, 3]\n",
    "number_new = number.append(5)\n",
    "print(number, number_new)"
   ]
  },
  {
   "cell_type": "code",
   "execution_count": 51,
   "id": "78a75004",
   "metadata": {},
   "outputs": [
    {
     "name": "stdout",
     "output_type": "stream",
     "text": [
      "['amial', 'girl']\n"
     ]
    }
   ],
   "source": [
    "text = ['amial', 'is', 'a', 'girl']\n",
    "word_l = [word for word in text if word.endswith('l')]\n",
    "print(word_l)"
   ]
  },
  {
   "cell_type": "code",
   "execution_count": 52,
   "id": "0feee4dd",
   "metadata": {},
   "outputs": [
    {
     "name": "stdout",
     "output_type": "stream",
     "text": [
      "True\n"
     ]
    }
   ],
   "source": [
    "print(all(list()))"
   ]
  },
  {
   "cell_type": "code",
   "execution_count": 53,
   "id": "0ca435cc",
   "metadata": {},
   "outputs": [
    {
     "name": "stdout",
     "output_type": "stream",
     "text": [
      "False\n"
     ]
    }
   ],
   "source": [
    "print(bool(list()))"
   ]
  },
  {
   "cell_type": "code",
   "execution_count": 54,
   "id": "6d229bbf",
   "metadata": {},
   "outputs": [
    {
     "name": "stdout",
     "output_type": "stream",
     "text": [
      "False\n"
     ]
    }
   ],
   "source": [
    "print(any(list()))"
   ]
  },
  {
   "cell_type": "code",
   "execution_count": 59,
   "id": "2371b7b1",
   "metadata": {},
   "outputs": [
    {
     "name": "stdout",
     "output_type": "stream",
     "text": [
      "False\n"
     ]
    }
   ],
   "source": [
    "print(all([0, -0, 0.0]))"
   ]
  },
  {
   "cell_type": "code",
   "execution_count": 58,
   "id": "4b1fab4e",
   "metadata": {},
   "outputs": [
    {
     "name": "stdout",
     "output_type": "stream",
     "text": [
      "False\n"
     ]
    }
   ],
   "source": [
    "print(any([0, -0, 0.0]))"
   ]
  },
  {
   "cell_type": "code",
   "execution_count": 60,
   "id": "b6b4865f",
   "metadata": {},
   "outputs": [
    {
     "name": "stdout",
     "output_type": "stream",
     "text": [
      "[True, False]\n"
     ]
    }
   ],
   "source": [
    "text = ['amial', 'is', 'a', 'girl']\n",
    "word_l = [word == 'amial'  for word in text if word.endswith('l')]\n",
    "print(word_l)"
   ]
  },
  {
   "cell_type": "code",
   "execution_count": 62,
   "id": "5c7541d6",
   "metadata": {},
   "outputs": [
    {
     "name": "stdout",
     "output_type": "stream",
     "text": [
      "[False, False, True, True]\n",
      "True\n",
      "False\n"
     ]
    }
   ],
   "source": [
    "scores = [1, 2, 3, 4]\n",
    "boolean_scores = [score >= 3 for score in scores]  \n",
    "print(boolean_scores)\n",
    "print(any(boolean_scores))  \n",
    "print(all(boolean_scores))"
   ]
  },
  {
   "cell_type": "code",
   "execution_count": 69,
   "id": "12cde288",
   "metadata": {},
   "outputs": [],
   "source": [
    "null_list = [0, 0.0, -0, [0, 0.0], None]"
   ]
  },
  {
   "cell_type": "code",
   "execution_count": 70,
   "id": "1a65aa36",
   "metadata": {},
   "outputs": [
    {
     "name": "stdout",
     "output_type": "stream",
     "text": [
      "False\n"
     ]
    }
   ],
   "source": [
    "print(all(null_list))"
   ]
  },
  {
   "cell_type": "code",
   "execution_count": 71,
   "id": "24282490",
   "metadata": {},
   "outputs": [
    {
     "name": "stdout",
     "output_type": "stream",
     "text": [
      "True\n"
     ]
    }
   ],
   "source": [
    "print(any(null_list))"
   ]
  },
  {
   "cell_type": "code",
   "execution_count": 72,
   "id": "94a33807",
   "metadata": {},
   "outputs": [],
   "source": [
    "new_list = [bool(number) for number in null_list]"
   ]
  },
  {
   "cell_type": "code",
   "execution_count": 73,
   "id": "06f61b76",
   "metadata": {},
   "outputs": [
    {
     "name": "stdout",
     "output_type": "stream",
     "text": [
      "[False, False, False, True, False]\n"
     ]
    }
   ],
   "source": [
    "print(new_list)"
   ]
  },
  {
   "cell_type": "code",
   "execution_count": 75,
   "id": "97f78bad",
   "metadata": {},
   "outputs": [
    {
     "name": "stdout",
     "output_type": "stream",
     "text": [
      "Perfect!\n"
     ]
    }
   ],
   "source": [
    "box = [10, 20, 32]\n",
    "\n",
    "if any([candy % 2 for candy in box]):\n",
    "    print(\"It is not a proper gift.\")\n",
    "else:\n",
    "    print(\"Perfect!\")"
   ]
  },
  {
   "cell_type": "code",
   "execution_count": 83,
   "id": "b555e635",
   "metadata": {},
   "outputs": [],
   "source": [
    "prime_numbers = [number for number in range(2, 1001) if all(number % i for i in range(2, number))]"
   ]
  },
  {
   "cell_type": "code",
   "execution_count": 84,
   "id": "1c178351",
   "metadata": {},
   "outputs": [
    {
     "name": "stdout",
     "output_type": "stream",
     "text": [
      "[2, 3, 5, 7, 11, 13, 17, 19, 23, 29, 31, 37, 41, 43, 47, 53, 59, 61, 67, 71, 73, 79, 83, 89, 97, 101, 103, 107, 109, 113, 127, 131, 137, 139, 149, 151, 157, 163, 167, 173, 179, 181, 191, 193, 197, 199, 211, 223, 227, 229, 233, 239, 241, 251, 257, 263, 269, 271, 277, 281, 283, 293, 307, 311, 313, 317, 331, 337, 347, 349, 353, 359, 367, 373, 379, 383, 389, 397, 401, 409, 419, 421, 431, 433, 439, 443, 449, 457, 461, 463, 467, 479, 487, 491, 499, 503, 509, 521, 523, 541, 547, 557, 563, 569, 571, 577, 587, 593, 599, 601, 607, 613, 617, 619, 631, 641, 643, 647, 653, 659, 661, 673, 677, 683, 691, 701, 709, 719, 727, 733, 739, 743, 751, 757, 761, 769, 773, 787, 797, 809, 811, 821, 823, 827, 829, 839, 853, 857, 859, 863, 877, 881, 883, 887, 907, 911, 919, 929, 937, 941, 947, 953, 967, 971, 977, 983, 991, 997]\n"
     ]
    }
   ],
   "source": [
    "print(prime_numbers)"
   ]
  },
  {
   "cell_type": "code",
   "execution_count": 85,
   "id": "0799dc0b",
   "metadata": {},
   "outputs": [],
   "source": [
    "check = all([True, True, 1, 1, True])"
   ]
  },
  {
   "cell_type": "code",
   "execution_count": 86,
   "id": "289c3d26",
   "metadata": {},
   "outputs": [
    {
     "name": "stdout",
     "output_type": "stream",
     "text": [
      "True\n"
     ]
    }
   ],
   "source": [
    "print(check)"
   ]
  },
  {
   "cell_type": "code",
   "execution_count": 87,
   "id": "afc70c25",
   "metadata": {},
   "outputs": [
    {
     "name": "stdout",
     "output_type": "stream",
     "text": [
      "<class 'bool'>\n"
     ]
    }
   ],
   "source": [
    "print(type(check))"
   ]
  },
  {
   "cell_type": "code",
   "execution_count": 89,
   "id": "6a2bd4d5",
   "metadata": {},
   "outputs": [],
   "source": [
    "check = all([True, True, 1, 1, True])\n",
    "\n",
    "if check == True:\n",
    "    status = 'winner'\n",
    "else:\n",
    "    status = 'loser'\n",
    "\n",
    "if status == 'winner':\n",
    "    winning_sum = 100\n",
    "else:\n",
    "    winning_sum = 10"
   ]
  },
  {
   "cell_type": "code",
   "execution_count": 91,
   "id": "027516e0",
   "metadata": {
    "scrolled": true
   },
   "outputs": [
    {
     "name": "stdout",
     "output_type": "stream",
     "text": [
      "---------\n",
      "| _ _ _ |\n",
      "| _ _ _ |\n",
      "| _ _ _ |\n",
      "---------\n"
     ]
    }
   ],
   "source": [
    "grid = ['_', '_','_','_','_','_','_','_','_',]\n",
    "print('---------')\n",
    "print('|',grid[0],grid[1],grid[2],'|')\n",
    "print('|',grid[3],grid[4],grid[5],'|')\n",
    "print('|',grid[6],grid[7],grid[8],'|')\n",
    "print('---------')"
   ]
  },
  {
   "cell_type": "code",
   "execution_count": 92,
   "id": "88036f33",
   "metadata": {},
   "outputs": [],
   "source": [
    "coordinates_list = [[grid[0], grid[1], grid[2]], [grid[3], grid[4], grid[5]], [grid[6], grid[7], grid[8]]]"
   ]
  },
  {
   "cell_type": "code",
   "execution_count": 93,
   "id": "8bae42de",
   "metadata": {},
   "outputs": [
    {
     "name": "stdout",
     "output_type": "stream",
     "text": [
      "[['_', '_', '_'], ['_', '_', '_'], ['_', '_', '_']]\n"
     ]
    }
   ],
   "source": [
    "print(coordinates_list)"
   ]
  },
  {
   "cell_type": "code",
   "execution_count": 1,
   "id": "3d83fb4a",
   "metadata": {},
   "outputs": [
    {
     "name": "stdout",
     "output_type": "stream",
     "text": [
      "---------\n",
      "| _ _ _ |\n",
      "| _ _ _ |\n",
      "| _ _ _ |\n",
      "---------\n",
      "2 2\n",
      "---------\n",
      "| _ _ _ |\n",
      "| _ X _ |\n",
      "| _ _ _ |\n",
      "---------\n",
      "1 1\n",
      "---------\n",
      "| O _ _ |\n",
      "| _ X _ |\n",
      "| _ _ _ |\n",
      "---------\n",
      "1 1\n",
      "This cell is occupied! Choose another one!\n",
      "1 1\n",
      "This cell is occupied! Choose another one!\n",
      "1 2\n",
      "---------\n",
      "| O X _ |\n",
      "| _ X _ |\n",
      "| _ _ _ |\n",
      "---------\n",
      "1 4\n",
      "Coordinates should be from 1 to 3!\n",
      "1 3\n",
      "---------\n",
      "| O X O |\n",
      "| _ X _ |\n",
      "| _ _ _ |\n",
      "---------\n",
      "3 2\n",
      "---------\n",
      "| O X O |\n",
      "| _ X _ |\n",
      "| _ X _ |\n",
      "---------\n",
      "X wins\n",
      "2 1\n",
      "---------\n",
      "| O X O |\n",
      "| O X _ |\n",
      "| _ X _ |\n",
      "---------\n",
      "X wins\n",
      "2 3\n",
      "---------\n",
      "| O X O |\n",
      "| O X X |\n",
      "| _ X _ |\n",
      "---------\n",
      "X wins\n",
      "3 1\n",
      "---------\n",
      "| O X O |\n",
      "| O X X |\n",
      "| O X _ |\n",
      "---------\n",
      "O wins\n",
      "3 3\n",
      "---------\n",
      "| O X O |\n",
      "| O X X |\n",
      "| O X X |\n",
      "---------\n",
      "O wins\n"
     ]
    }
   ],
   "source": [
    "grid = ['_', '_','_','_','_','_','_','_','_',]\n",
    "print('---------')\n",
    "print('|',grid[0],grid[1],grid[2],'|')\n",
    "print('|',grid[3],grid[4],grid[5],'|')\n",
    "print('|',grid[6],grid[7],grid[8],'|')\n",
    "print('---------')\n",
    "players = ['X','O','X','O','X','O','X','O','X']\n",
    "for player in players:\n",
    "    while True:\n",
    "        try:\n",
    "            coordinates = input().split()\n",
    "            x = int(coordinates[0])\n",
    "            y = int(coordinates[1])\n",
    "        except:\n",
    "            print('You should enter numbers!')\n",
    "        else:\n",
    "            if 1 <= x <=3 and 1 <= y <=3:\n",
    "                if grid[y-1 + 3 * (x-1)]=='_':\n",
    "                    count_x = 0\n",
    "                    count_i = 0\n",
    "                    count_ = 0\n",
    "                    for i in range(9):\n",
    "                        if grid[i] =='X':\n",
    "                            count_x += 1\n",
    "                        elif grid[i] == 'O':\n",
    "                            count_i += 1\n",
    "                    if abs(count_x - count_i) >1:\n",
    "                        print('Impossible')\n",
    "                    else:\n",
    "                        grid[y-1 + 3 * (x-1)] = player\n",
    "                        print('---------')\n",
    "                        print('|',grid[0],grid[1],grid[2],'|')\n",
    "                        print('|',grid[3],grid[4],grid[5],'|')\n",
    "                        print('|',grid[6],grid[7],grid[8],'|')\n",
    "                        print('---------')\n",
    "                        if 'O' == grid[0] == grid[1] == grid[2] or 'O' == grid[3] == grid[4] == grid[5] or 'O' == grid[6] == grid[7] == grid[8] or 'O' == grid[0] == grid[3] == grid[6] or 'O' == grid[1] == grid[4] == grid[7] or 'O' == grid[2] == grid[5] == grid[8] or 'O' == grid[0] == grid[4] == grid[8] or 'O' == grid[2] == grid[4] == grid[6]:\n",
    "                            o_win = 'O wins'\n",
    "                            print('O wins')\n",
    "                            break\n",
    "                        elif 'X'== grid[0] == grid[1] == grid[2] or 'X'== grid[3] == grid[4] == grid[5] or 'X'== grid[6] == grid[7] == grid[8] or 'X'== grid[0] == grid[3] == grid[6] or 'X'== grid[1] == grid[4] == grid[7] or 'X'== grid[2] == grid[5] == grid[8] or 'X'== grid[0] == grid[4] == grid[8] or 'X'== grid[2] == grid[4] == grid[6]:\n",
    "                            x_win = 'X wins'\n",
    "                            print('X wins')\n",
    "                            break\n",
    "                        else:\n",
    "                            for i in range(9):\n",
    "                                if grid[i] == '_':\n",
    "                                    count_ += 1\n",
    "                            if count_ >=1:\n",
    "                                break\n",
    "                            else:\n",
    "                                print('Draw')\n",
    "                                break\n",
    "                else:\n",
    "                    print('This cell is occupied! Choose another one!')\n",
    "            else:\n",
    "                print('Coordinates should be from 1 to 3!')"
   ]
  },
  {
   "cell_type": "code",
   "execution_count": 1,
   "id": "e37aa635",
   "metadata": {},
   "outputs": [
    {
     "name": "stdout",
     "output_type": "stream",
     "text": [
      "X\n",
      "O\n",
      "X\n",
      "O\n",
      "X\n",
      "O\n",
      "X\n",
      "O\n",
      "X\n"
     ]
    }
   ],
   "source": [
    "players = ['X','O','X', 'O','X', 'O','X', 'O','X']\n",
    "for player in players:\n",
    "    print(player)"
   ]
  },
  {
   "cell_type": "code",
   "execution_count": 1,
   "id": "cb34d54a",
   "metadata": {},
   "outputs": [
    {
     "name": "stdout",
     "output_type": "stream",
     "text": [
      "H A N G M A N\n",
      "The game will be available soon.\n",
      "python\n",
      "You survived!\n"
     ]
    }
   ],
   "source": [
    "print('H A N G M A N')\n",
    "print('The game will be available soon.')\n",
    "word = input()\n",
    "if word  == 'python':\n",
    "    print('You survived!')\n",
    "else:\n",
    "    print('You lost!')"
   ]
  },
  {
   "cell_type": "code",
   "execution_count": 6,
   "id": "446b38fe",
   "metadata": {},
   "outputs": [],
   "source": [
    "def greet(name, surname):\n",
    "    print('hello', name, surname)"
   ]
  },
  {
   "cell_type": "code",
   "execution_count": 7,
   "id": "905a37a0",
   "metadata": {},
   "outputs": [
    {
     "name": "stdout",
     "output_type": "stream",
     "text": [
      "hello Huajuan YUAN\n"
     ]
    }
   ],
   "source": [
    "greet('Huajuan', 'YUAN')"
   ]
  },
  {
   "cell_type": "code",
   "execution_count": 8,
   "id": "b11a73e5",
   "metadata": {},
   "outputs": [
    {
     "name": "stdout",
     "output_type": "stream",
     "text": [
      "hello Huajuan YUAN\n"
     ]
    }
   ],
   "source": [
    "greet(name='Huajuan', surname='YUAN') #  By PEP 8 convention, you should not put spaces around = when indicating a keyword argument."
   ]
  },
  {
   "cell_type": "code",
   "execution_count": 11,
   "id": "c38ef688",
   "metadata": {},
   "outputs": [],
   "source": [
    "def equation_writing(a, b, c):\n",
    "    print(a,'x +',b,'=',c)"
   ]
  },
  {
   "cell_type": "code",
   "execution_count": 12,
   "id": "3d777d31",
   "metadata": {},
   "outputs": [
    {
     "name": "stdout",
     "output_type": "stream",
     "text": [
      "3 x + 4 = 3\n"
     ]
    }
   ],
   "source": [
    "equation_writing(3,4,3)"
   ]
  },
  {
   "cell_type": "code",
   "execution_count": 1,
   "id": "e77d2f18",
   "metadata": {},
   "outputs": [],
   "source": [
    "claim = 'Pluto is a planet!'"
   ]
  },
  {
   "cell_type": "code",
   "execution_count": 5,
   "id": "453456de",
   "metadata": {},
   "outputs": [
    {
     "data": {
      "text/plain": [
       "True"
      ]
     },
     "execution_count": 5,
     "metadata": {},
     "output_type": "execute_result"
    }
   ],
   "source": [
    "claim.startswith('Pluto')"
   ]
  },
  {
   "cell_type": "code",
   "execution_count": 8,
   "id": "a7d623f3",
   "metadata": {},
   "outputs": [
    {
     "name": "stdout",
     "output_type": "stream",
     "text": [
      "['Pluto', 'is', 'a', 'planet!']\n"
     ]
    }
   ],
   "source": [
    "words = claim.split()\n",
    "print(words)"
   ]
  },
  {
   "cell_type": "code",
   "execution_count": 9,
   "id": "15420c61",
   "metadata": {},
   "outputs": [],
   "source": [
    "datestr = '1956-01-31'\n",
    "year, month, day = datestr.split('-')"
   ]
  },
  {
   "cell_type": "code",
   "execution_count": 10,
   "id": "1827e823",
   "metadata": {},
   "outputs": [
    {
     "name": "stdout",
     "output_type": "stream",
     "text": [
      "1956 01 31\n"
     ]
    }
   ],
   "source": [
    "print(year, month, day)"
   ]
  },
  {
   "cell_type": "code",
   "execution_count": 13,
   "id": "dc672cb8",
   "metadata": {},
   "outputs": [
    {
     "name": "stdout",
     "output_type": "stream",
     "text": [
      "Pluto weighs about 1.3e+22 kilograms (0.218% of Earth's mass). It is home to 52,910,390 Plutonians.\n"
     ]
    }
   ],
   "source": [
    "planet = 'Pluto'\n",
    "pluto_mass = 1.303 * 10**22\n",
    "earth_mass = 5.9722 * 10**24\n",
    "population = 52910390\n",
    "#         2 decimal points   3 decimal points, format as percent     separate with commas\n",
    "print(\"{} weighs about {:.2} kilograms ({:.3%} of Earth's mass). It is home to {:,} Plutonians.\".format(planet, pluto_mass, pluto_mass / earth_mass, population,\n",
    "))"
   ]
  },
  {
   "cell_type": "code",
   "execution_count": 14,
   "id": "59b13a69",
   "metadata": {},
   "outputs": [
    {
     "name": "stdout",
     "output_type": "stream",
     "text": [
      "Pluto's a planet.\n",
      "No, it's a dwarf planet.\n",
      "planet!\n",
      "dwarf planet!\n"
     ]
    }
   ],
   "source": [
    "s = \"\"\"Pluto's a {0}.\n",
    "No, it's a {1}.\n",
    "{0}!\n",
    "{1}!\"\"\".format('planet', 'dwarf planet')\n",
    "print(s)"
   ]
  },
  {
   "cell_type": "code",
   "execution_count": 15,
   "id": "1ad98a02",
   "metadata": {},
   "outputs": [],
   "source": [
    "numbers = {\"one\":1, 'two':2, 'three':3}"
   ]
  },
  {
   "cell_type": "code",
   "execution_count": 17,
   "id": "420636ca",
   "metadata": {},
   "outputs": [
    {
     "data": {
      "text/plain": [
       "1"
      ]
     },
     "execution_count": 17,
     "metadata": {},
     "output_type": "execute_result"
    }
   ],
   "source": [
    "numbers['one']"
   ]
  },
  {
   "cell_type": "code",
   "execution_count": 18,
   "id": "3329c027",
   "metadata": {},
   "outputs": [
    {
     "data": {
      "text/plain": [
       "{'one': 1, 'two': 2, 'three': 3, 'four': 4}"
      ]
     },
     "execution_count": 18,
     "metadata": {},
     "output_type": "execute_result"
    }
   ],
   "source": [
    "numbers['four'] = 4\n",
    "numbers"
   ]
  },
  {
   "cell_type": "code",
   "execution_count": 19,
   "id": "089e146c",
   "metadata": {},
   "outputs": [
    {
     "data": {
      "text/plain": [
       "{'one': 'first', 'two': 2, 'three': 3, 'four': 4}"
      ]
     },
     "execution_count": 19,
     "metadata": {},
     "output_type": "execute_result"
    }
   ],
   "source": [
    "numbers['one'] = 'first'\n",
    "numbers"
   ]
  },
  {
   "cell_type": "code",
   "execution_count": 22,
   "id": "da6c6c60",
   "metadata": {},
   "outputs": [],
   "source": [
    "fruits = ['apple', 'banana', 'pear', 'grape']\n",
    "fruit_dictionary = {fruit: fruit[0].upper() for fruit in fruits}"
   ]
  },
  {
   "cell_type": "code",
   "execution_count": 23,
   "id": "36ffba1c",
   "metadata": {},
   "outputs": [
    {
     "name": "stdout",
     "output_type": "stream",
     "text": [
      "{'apple': 'A', 'banana': 'B', 'pear': 'P', 'grape': 'G'}\n"
     ]
    }
   ],
   "source": [
    "print(fruit_dictionary)"
   ]
  },
  {
   "cell_type": "code",
   "execution_count": 24,
   "id": "8c676aa7",
   "metadata": {},
   "outputs": [
    {
     "data": {
      "text/plain": [
       "False"
      ]
     },
     "execution_count": 24,
     "metadata": {},
     "output_type": "execute_result"
    }
   ],
   "source": [
    "'watermelon' in fruit_dictionary"
   ]
  },
  {
   "cell_type": "code",
   "execution_count": 25,
   "id": "65a5426d",
   "metadata": {},
   "outputs": [
    {
     "name": "stdout",
     "output_type": "stream",
     "text": [
      "apple = A\n",
      "banana = B\n",
      "pear = P\n",
      "grape = G\n"
     ]
    }
   ],
   "source": [
    "for f in fruit_dictionary:\n",
    "    print('{} = {}'.format(f, fruit_dictionary[f]))"
   ]
  },
  {
   "cell_type": "code",
   "execution_count": 27,
   "id": "12126b1b",
   "metadata": {},
   "outputs": [],
   "source": [
    "value = fruit_dictionary.values()"
   ]
  },
  {
   "cell_type": "code",
   "execution_count": 28,
   "id": "91186d73",
   "metadata": {},
   "outputs": [
    {
     "name": "stdout",
     "output_type": "stream",
     "text": [
      "dict_values(['A', 'B', 'P', 'G'])\n"
     ]
    }
   ],
   "source": [
    "print(value)"
   ]
  },
  {
   "cell_type": "code",
   "execution_count": 31,
   "id": "df4227b5",
   "metadata": {},
   "outputs": [
    {
     "data": {
      "text/plain": [
       "'A B G P'"
      ]
     },
     "execution_count": 31,
     "metadata": {},
     "output_type": "execute_result"
    }
   ],
   "source": [
    "' '.join(sorted(value))"
   ]
  },
  {
   "cell_type": "code",
   "execution_count": 32,
   "id": "b8d73d1b",
   "metadata": {},
   "outputs": [
    {
     "data": {
      "text/plain": [
       "['apple', 'banana', 'grape', 'pear']"
      ]
     },
     "execution_count": 32,
     "metadata": {},
     "output_type": "execute_result"
    }
   ],
   "source": [
    "sorted(fruits)"
   ]
  },
  {
   "cell_type": "code",
   "execution_count": 34,
   "id": "39da8a06",
   "metadata": {},
   "outputs": [
    {
     "name": "stdout",
     "output_type": "stream",
     "text": [
      "<class 'dict_values'>\n"
     ]
    }
   ],
   "source": [
    "print(type(value))"
   ]
  },
  {
   "cell_type": "code",
   "execution_count": 37,
   "id": "474189dc",
   "metadata": {},
   "outputs": [
    {
     "name": "stdout",
     "output_type": "stream",
     "text": [
      "apple begins with \"A\"\n",
      "banana begins with \"B\"\n",
      "pear begins with \"P\"\n",
      "grape begins with \"G\"\n"
     ]
    }
   ],
   "source": [
    "for fruit, alpha in fruit_dictionary.items():\n",
    "    print('{} begins with \"{}\"'.format(fruit, alpha))"
   ]
  },
  {
   "cell_type": "code",
   "execution_count": 38,
   "id": "439e21d0",
   "metadata": {},
   "outputs": [],
   "source": [
    "c = 'it\\'s ok'\n",
    "length = len(c)"
   ]
  },
  {
   "cell_type": "code",
   "execution_count": 39,
   "id": "76a4dddf",
   "metadata": {},
   "outputs": [
    {
     "name": "stdout",
     "output_type": "stream",
     "text": [
      "7\n"
     ]
    }
   ],
   "source": [
    "print(length)"
   ]
  },
  {
   "cell_type": "code",
   "execution_count": 94,
   "id": "3e2eca40",
   "metadata": {},
   "outputs": [],
   "source": [
    "def word_search(doc_list, keyword):\n",
    "    word_list=[]\n",
    "    for i in range(len(doc_list)):\n",
    "        count = 0\n",
    "        for j in doc_list[i].lower().split():\n",
    "            if keyword.lower() == j.rstrip('.,'):\n",
    "                count += 1\n",
    "        if count >0:\n",
    "            word_list.append(i)\n",
    "        \n",
    "    return word_list\n",
    "    "
   ]
  },
  {
   "cell_type": "code",
   "execution_count": 95,
   "id": "96ea4885",
   "metadata": {},
   "outputs": [],
   "source": [
    "doc_list = ['The Learn Python Challenge Casino', 'They bought a car, and a horse', 'Casinoville?']"
   ]
  },
  {
   "cell_type": "code",
   "execution_count": 50,
   "id": "6527b26d",
   "metadata": {},
   "outputs": [
    {
     "data": {
      "text/plain": [
       "3"
      ]
     },
     "execution_count": 50,
     "metadata": {},
     "output_type": "execute_result"
    }
   ],
   "source": [
    "len(doc_list)"
   ]
  },
  {
   "cell_type": "code",
   "execution_count": 85,
   "id": "a414a5ab",
   "metadata": {},
   "outputs": [
    {
     "data": {
      "text/plain": [
       "['they', 'bought', 'a', 'car,', 'and', 'a', 'horse']"
      ]
     },
     "execution_count": 85,
     "metadata": {},
     "output_type": "execute_result"
    }
   ],
   "source": [
    "doc_list[1].lower().split()"
   ]
  },
  {
   "cell_type": "code",
   "execution_count": 90,
   "id": "251459da",
   "metadata": {},
   "outputs": [
    {
     "name": "stdout",
     "output_type": "stream",
     "text": [
      "'they'\n",
      "'bought'\n",
      "'a'\n",
      "'car'\n",
      "'and'\n",
      "'a'\n",
      "'horse'\n"
     ]
    }
   ],
   "source": [
    "for i in doc_list[1].lower().split():\n",
    "    print(repr(i.rstrip(',')))"
   ]
  },
  {
   "cell_type": "code",
   "execution_count": 96,
   "id": "41a5e986",
   "metadata": {},
   "outputs": [
    {
     "data": {
      "text/plain": [
       "False"
      ]
     },
     "execution_count": 96,
     "metadata": {},
     "output_type": "execute_result"
    }
   ],
   "source": [
    "'Casina' in doc_list[0]"
   ]
  },
  {
   "cell_type": "code",
   "execution_count": 97,
   "id": "77692842",
   "metadata": {},
   "outputs": [
    {
     "data": {
      "text/plain": [
       "[1]"
      ]
     },
     "execution_count": 97,
     "metadata": {},
     "output_type": "execute_result"
    }
   ],
   "source": [
    "word_search(doc_list, 'car')"
   ]
  },
  {
   "cell_type": "code",
   "execution_count": 65,
   "id": "5be661a2",
   "metadata": {},
   "outputs": [
    {
     "data": {
      "text/plain": [
       "['they', 'bought', 'a', 'car,', 'and', 'a', 'horse']"
      ]
     },
     "execution_count": 65,
     "metadata": {},
     "output_type": "execute_result"
    }
   ],
   "source": [
    "'They bought a car, and a horse'.lower().split()"
   ]
  },
  {
   "cell_type": "code",
   "execution_count": 66,
   "id": "4965411a",
   "metadata": {},
   "outputs": [
    {
     "data": {
      "text/plain": [
       "'car'"
      ]
     },
     "execution_count": 66,
     "metadata": {},
     "output_type": "execute_result"
    }
   ],
   "source": [
    "\"car,\".strip(',')"
   ]
  },
  {
   "cell_type": "code",
   "execution_count": 102,
   "id": "ed3b0da2",
   "metadata": {},
   "outputs": [],
   "source": [
    "def multi_word_search(doc_list, keyword):\n",
    "    word_dictionary={}\n",
    "    for k in keyword:\n",
    "        word_list=[]\n",
    "        for i in range(len(doc_list)):\n",
    "            count = 0\n",
    "            for j in doc_list[i].lower().split():\n",
    "                if k.lower() == j.rstrip('.,'):\n",
    "                    count += 1\n",
    "            if count >0:\n",
    "                word_list.append(i)\n",
    "        word_dictionary[k]=word_list\n",
    "\n",
    "    return word_dictionary\n",
    "    "
   ]
  },
  {
   "cell_type": "code",
   "execution_count": 103,
   "id": "3f863583",
   "metadata": {},
   "outputs": [],
   "source": [
    "doc_list = [\"The Learn Python Challenge Casino.\", \"They bought a car and a casino\", \"Casinoville\"]"
   ]
  },
  {
   "cell_type": "code",
   "execution_count": 104,
   "id": "f6fa142a",
   "metadata": {},
   "outputs": [],
   "source": [
    "keywords = ['casino', 'they']"
   ]
  },
  {
   "cell_type": "code",
   "execution_count": null,
   "id": "093e39d6",
   "metadata": {},
   "outputs": [],
   "source": []
  },
  {
   "cell_type": "code",
   "execution_count": 105,
   "id": "6e3b42a6",
   "metadata": {},
   "outputs": [
    {
     "data": {
      "text/plain": [
       "{'casino': [0, 1], 'they': [1]}"
      ]
     },
     "execution_count": 105,
     "metadata": {},
     "output_type": "execute_result"
    }
   ],
   "source": [
    "multi_word_search(doc_list, keywords)"
   ]
  },
  {
   "cell_type": "code",
   "execution_count": 1,
   "id": "931f5998",
   "metadata": {},
   "outputs": [],
   "source": [
    "import math"
   ]
  },
  {
   "cell_type": "code",
   "execution_count": 2,
   "id": "f49eda79",
   "metadata": {},
   "outputs": [
    {
     "name": "stdout",
     "output_type": "stream",
     "text": [
      "it's math. it has type <class 'module'>\n"
     ]
    }
   ],
   "source": [
    "print('it\\'s math. it has type {}'.format(type(math)))"
   ]
  },
  {
   "cell_type": "code",
   "execution_count": 4,
   "id": "357f5aaa",
   "metadata": {},
   "outputs": [
    {
     "name": "stdout",
     "output_type": "stream",
     "text": [
      "['__doc__', '__loader__', '__name__', '__package__', '__spec__', 'acos', 'acosh', 'asin', 'asinh', 'atan', 'atan2', 'atanh', 'ceil', 'comb', 'copysign', 'cos', 'cosh', 'degrees', 'dist', 'e', 'erf', 'erfc', 'exp', 'expm1', 'fabs', 'factorial', 'floor', 'fmod', 'frexp', 'fsum', 'gamma', 'gcd', 'hypot', 'inf', 'isclose', 'isfinite', 'isinf', 'isnan', 'isqrt', 'ldexp', 'lgamma', 'log', 'log10', 'log1p', 'log2', 'modf', 'nan', 'perm', 'pi', 'pow', 'prod', 'radians', 'remainder', 'sin', 'sinh', 'sqrt', 'tan', 'tanh', 'tau', 'trunc']\n"
     ]
    }
   ],
   "source": [
    "print(dir(math))"
   ]
  },
  {
   "cell_type": "code",
   "execution_count": 6,
   "id": "14a7ce40",
   "metadata": {},
   "outputs": [
    {
     "name": "stdout",
     "output_type": "stream",
     "text": [
      "pi to 4 digits 3.142\n"
     ]
    }
   ],
   "source": [
    "print('pi to 4 siginificant digits {:.4}'.format(math.pi))"
   ]
  },
  {
   "cell_type": "code",
   "execution_count": 7,
   "id": "86fba803",
   "metadata": {},
   "outputs": [
    {
     "data": {
      "text/plain": [
       "5.0"
      ]
     },
     "execution_count": 7,
     "metadata": {},
     "output_type": "execute_result"
    }
   ],
   "source": [
    "math.log(32, 2)"
   ]
  },
  {
   "cell_type": "code",
   "execution_count": 8,
   "id": "b46aa6a3",
   "metadata": {},
   "outputs": [
    {
     "name": "stdout",
     "output_type": "stream",
     "text": [
      "Help on built-in function log in module math:\n",
      "\n",
      "log(...)\n",
      "    log(x, [base=math.e])\n",
      "    Return the logarithm of x to the given base.\n",
      "    \n",
      "    If the base not specified, returns the natural logarithm (base e) of x.\n",
      "\n"
     ]
    }
   ],
   "source": [
    "help(math.log)"
   ]
  },
  {
   "cell_type": "code",
   "execution_count": 9,
   "id": "0d72b49c",
   "metadata": {},
   "outputs": [
    {
     "name": "stdout",
     "output_type": "stream",
     "text": [
      "Help on built-in module math:\n",
      "\n",
      "NAME\n",
      "    math\n",
      "\n",
      "DESCRIPTION\n",
      "    This module provides access to the mathematical functions\n",
      "    defined by the C standard.\n",
      "\n",
      "FUNCTIONS\n",
      "    acos(x, /)\n",
      "        Return the arc cosine (measured in radians) of x.\n",
      "    \n",
      "    acosh(x, /)\n",
      "        Return the inverse hyperbolic cosine of x.\n",
      "    \n",
      "    asin(x, /)\n",
      "        Return the arc sine (measured in radians) of x.\n",
      "    \n",
      "    asinh(x, /)\n",
      "        Return the inverse hyperbolic sine of x.\n",
      "    \n",
      "    atan(x, /)\n",
      "        Return the arc tangent (measured in radians) of x.\n",
      "    \n",
      "    atan2(y, x, /)\n",
      "        Return the arc tangent (measured in radians) of y/x.\n",
      "        \n",
      "        Unlike atan(y/x), the signs of both x and y are considered.\n",
      "    \n",
      "    atanh(x, /)\n",
      "        Return the inverse hyperbolic tangent of x.\n",
      "    \n",
      "    ceil(x, /)\n",
      "        Return the ceiling of x as an Integral.\n",
      "        \n",
      "        This is the smallest integer >= x.\n",
      "    \n",
      "    comb(n, k, /)\n",
      "        Number of ways to choose k items from n items without repetition and without order.\n",
      "        \n",
      "        Evaluates to n! / (k! * (n - k)!) when k <= n and evaluates\n",
      "        to zero when k > n.\n",
      "        \n",
      "        Also called the binomial coefficient because it is equivalent\n",
      "        to the coefficient of k-th term in polynomial expansion of the\n",
      "        expression (1 + x)**n.\n",
      "        \n",
      "        Raises TypeError if either of the arguments are not integers.\n",
      "        Raises ValueError if either of the arguments are negative.\n",
      "    \n",
      "    copysign(x, y, /)\n",
      "        Return a float with the magnitude (absolute value) of x but the sign of y.\n",
      "        \n",
      "        On platforms that support signed zeros, copysign(1.0, -0.0)\n",
      "        returns -1.0.\n",
      "    \n",
      "    cos(x, /)\n",
      "        Return the cosine of x (measured in radians).\n",
      "    \n",
      "    cosh(x, /)\n",
      "        Return the hyperbolic cosine of x.\n",
      "    \n",
      "    degrees(x, /)\n",
      "        Convert angle x from radians to degrees.\n",
      "    \n",
      "    dist(p, q, /)\n",
      "        Return the Euclidean distance between two points p and q.\n",
      "        \n",
      "        The points should be specified as sequences (or iterables) of\n",
      "        coordinates.  Both inputs must have the same dimension.\n",
      "        \n",
      "        Roughly equivalent to:\n",
      "            sqrt(sum((px - qx) ** 2.0 for px, qx in zip(p, q)))\n",
      "    \n",
      "    erf(x, /)\n",
      "        Error function at x.\n",
      "    \n",
      "    erfc(x, /)\n",
      "        Complementary error function at x.\n",
      "    \n",
      "    exp(x, /)\n",
      "        Return e raised to the power of x.\n",
      "    \n",
      "    expm1(x, /)\n",
      "        Return exp(x)-1.\n",
      "        \n",
      "        This function avoids the loss of precision involved in the direct evaluation of exp(x)-1 for small x.\n",
      "    \n",
      "    fabs(x, /)\n",
      "        Return the absolute value of the float x.\n",
      "    \n",
      "    factorial(x, /)\n",
      "        Find x!.\n",
      "        \n",
      "        Raise a ValueError if x is negative or non-integral.\n",
      "    \n",
      "    floor(x, /)\n",
      "        Return the floor of x as an Integral.\n",
      "        \n",
      "        This is the largest integer <= x.\n",
      "    \n",
      "    fmod(x, y, /)\n",
      "        Return fmod(x, y), according to platform C.\n",
      "        \n",
      "        x % y may differ.\n",
      "    \n",
      "    frexp(x, /)\n",
      "        Return the mantissa and exponent of x, as pair (m, e).\n",
      "        \n",
      "        m is a float and e is an int, such that x = m * 2.**e.\n",
      "        If x is 0, m and e are both 0.  Else 0.5 <= abs(m) < 1.0.\n",
      "    \n",
      "    fsum(seq, /)\n",
      "        Return an accurate floating point sum of values in the iterable seq.\n",
      "        \n",
      "        Assumes IEEE-754 floating point arithmetic.\n",
      "    \n",
      "    gamma(x, /)\n",
      "        Gamma function at x.\n",
      "    \n",
      "    gcd(x, y, /)\n",
      "        greatest common divisor of x and y\n",
      "    \n",
      "    hypot(...)\n",
      "        hypot(*coordinates) -> value\n",
      "        \n",
      "        Multidimensional Euclidean distance from the origin to a point.\n",
      "        \n",
      "        Roughly equivalent to:\n",
      "            sqrt(sum(x**2 for x in coordinates))\n",
      "        \n",
      "        For a two dimensional point (x, y), gives the hypotenuse\n",
      "        using the Pythagorean theorem:  sqrt(x*x + y*y).\n",
      "        \n",
      "        For example, the hypotenuse of a 3/4/5 right triangle is:\n",
      "        \n",
      "            >>> hypot(3.0, 4.0)\n",
      "            5.0\n",
      "    \n",
      "    isclose(a, b, *, rel_tol=1e-09, abs_tol=0.0)\n",
      "        Determine whether two floating point numbers are close in value.\n",
      "        \n",
      "          rel_tol\n",
      "            maximum difference for being considered \"close\", relative to the\n",
      "            magnitude of the input values\n",
      "          abs_tol\n",
      "            maximum difference for being considered \"close\", regardless of the\n",
      "            magnitude of the input values\n",
      "        \n",
      "        Return True if a is close in value to b, and False otherwise.\n",
      "        \n",
      "        For the values to be considered close, the difference between them\n",
      "        must be smaller than at least one of the tolerances.\n",
      "        \n",
      "        -inf, inf and NaN behave similarly to the IEEE 754 Standard.  That\n",
      "        is, NaN is not close to anything, even itself.  inf and -inf are\n",
      "        only close to themselves.\n",
      "    \n",
      "    isfinite(x, /)\n",
      "        Return True if x is neither an infinity nor a NaN, and False otherwise.\n",
      "    \n",
      "    isinf(x, /)\n",
      "        Return True if x is a positive or negative infinity, and False otherwise.\n",
      "    \n",
      "    isnan(x, /)\n",
      "        Return True if x is a NaN (not a number), and False otherwise.\n",
      "    \n",
      "    isqrt(n, /)\n",
      "        Return the integer part of the square root of the input.\n",
      "    \n",
      "    ldexp(x, i, /)\n",
      "        Return x * (2**i).\n",
      "        \n",
      "        This is essentially the inverse of frexp().\n",
      "    \n",
      "    lgamma(x, /)\n",
      "        Natural logarithm of absolute value of Gamma function at x.\n",
      "    \n",
      "    log(...)\n",
      "        log(x, [base=math.e])\n",
      "        Return the logarithm of x to the given base.\n",
      "        \n",
      "        If the base not specified, returns the natural logarithm (base e) of x.\n",
      "    \n",
      "    log10(x, /)\n",
      "        Return the base 10 logarithm of x.\n",
      "    \n",
      "    log1p(x, /)\n",
      "        Return the natural logarithm of 1+x (base e).\n",
      "        \n",
      "        The result is computed in a way which is accurate for x near zero.\n",
      "    \n",
      "    log2(x, /)\n",
      "        Return the base 2 logarithm of x.\n",
      "    \n",
      "    modf(x, /)\n",
      "        Return the fractional and integer parts of x.\n",
      "        \n",
      "        Both results carry the sign of x and are floats.\n",
      "    \n",
      "    perm(n, k=None, /)\n",
      "        Number of ways to choose k items from n items without repetition and with order.\n",
      "        \n",
      "        Evaluates to n! / (n - k)! when k <= n and evaluates\n",
      "        to zero when k > n.\n",
      "        \n",
      "        If k is not specified or is None, then k defaults to n\n",
      "        and the function returns n!.\n",
      "        \n",
      "        Raises TypeError if either of the arguments are not integers.\n",
      "        Raises ValueError if either of the arguments are negative.\n",
      "    \n",
      "    pow(x, y, /)\n",
      "        Return x**y (x to the power of y).\n",
      "    \n",
      "    prod(iterable, /, *, start=1)\n",
      "        Calculate the product of all the elements in the input iterable.\n",
      "        \n",
      "        The default start value for the product is 1.\n",
      "        \n",
      "        When the iterable is empty, return the start value.  This function is\n",
      "        intended specifically for use with numeric values and may reject\n",
      "        non-numeric types.\n",
      "    \n",
      "    radians(x, /)\n",
      "        Convert angle x from degrees to radians.\n",
      "    \n",
      "    remainder(x, y, /)\n",
      "        Difference between x and the closest integer multiple of y.\n",
      "        \n",
      "        Return x - n*y where n*y is the closest integer multiple of y.\n",
      "        In the case where x is exactly halfway between two multiples of\n",
      "        y, the nearest even value of n is used. The result is always exact.\n",
      "    \n",
      "    sin(x, /)\n",
      "        Return the sine of x (measured in radians).\n",
      "    \n",
      "    sinh(x, /)\n",
      "        Return the hyperbolic sine of x.\n",
      "    \n",
      "    sqrt(x, /)\n",
      "        Return the square root of x.\n",
      "    \n",
      "    tan(x, /)\n",
      "        Return the tangent of x (measured in radians).\n",
      "    \n",
      "    tanh(x, /)\n",
      "        Return the hyperbolic tangent of x.\n",
      "    \n",
      "    trunc(x, /)\n",
      "        Truncates the Real x to the nearest Integral toward 0.\n",
      "        \n",
      "        Uses the __trunc__ magic method.\n",
      "\n",
      "DATA\n",
      "    e = 2.718281828459045\n",
      "    inf = inf\n",
      "    nan = nan\n",
      "    pi = 3.141592653589793\n",
      "    tau = 6.283185307179586\n",
      "\n",
      "FILE\n",
      "    (built-in)\n",
      "\n",
      "\n"
     ]
    }
   ],
   "source": [
    "help(math)"
   ]
  },
  {
   "cell_type": "code",
   "execution_count": 10,
   "id": "740b7c80",
   "metadata": {},
   "outputs": [],
   "source": [
    "#  a shorter alias\n",
    "import math as ma"
   ]
  },
  {
   "cell_type": "code",
   "execution_count": 11,
   "id": "6da128b0",
   "metadata": {},
   "outputs": [
    {
     "data": {
      "text/plain": [
       "3.141592653589793"
      ]
     },
     "execution_count": 11,
     "metadata": {},
     "output_type": "execute_result"
    }
   ],
   "source": [
    "ma.pi"
   ]
  },
  {
   "cell_type": "code",
   "execution_count": 12,
   "id": "0521fdc9",
   "metadata": {},
   "outputs": [
    {
     "data": {
      "text/plain": [
       "3.141592653589793"
      ]
     },
     "execution_count": 12,
     "metadata": {},
     "output_type": "execute_result"
    }
   ],
   "source": [
    "math.pi"
   ]
  },
  {
   "cell_type": "code",
   "execution_count": 13,
   "id": "83d1a090",
   "metadata": {},
   "outputs": [],
   "source": [
    "import numpy as np\n",
    "import pandas as pd"
   ]
  },
  {
   "cell_type": "code",
   "execution_count": 14,
   "id": "df135319",
   "metadata": {},
   "outputs": [],
   "source": [
    "from math import *"
   ]
  },
  {
   "cell_type": "code",
   "execution_count": 15,
   "id": "7b1cad4f",
   "metadata": {},
   "outputs": [
    {
     "data": {
      "text/plain": [
       "3.141592653589793"
      ]
     },
     "execution_count": 15,
     "metadata": {},
     "output_type": "execute_result"
    }
   ],
   "source": [
    "pi"
   ]
  },
  {
   "cell_type": "code",
   "execution_count": 16,
   "id": "ecd256ae",
   "metadata": {},
   "outputs": [
    {
     "data": {
      "text/plain": [
       "5.0"
      ]
     },
     "execution_count": 16,
     "metadata": {},
     "output_type": "execute_result"
    }
   ],
   "source": [
    "log(32,2)"
   ]
  },
  {
   "cell_type": "code",
   "execution_count": 2,
   "id": "a3828955",
   "metadata": {},
   "outputs": [],
   "source": [
    "import re\n",
    "text = \"OI for FY 2019 was 12.4 billion, up more than eight percent from OI in FY 2018.\""
   ]
  },
  {
   "cell_type": "code",
   "execution_count": 6,
   "id": "11fea6cb",
   "metadata": {},
   "outputs": [],
   "source": [
    "x1 = re.search(r'OI', text)"
   ]
  },
  {
   "cell_type": "code",
   "execution_count": 7,
   "id": "e5ec8acf",
   "metadata": {},
   "outputs": [
    {
     "name": "stdout",
     "output_type": "stream",
     "text": [
      "<re.Match object; span=(0, 2), match='OI'>\n"
     ]
    }
   ],
   "source": [
    "print(x1)"
   ]
  },
  {
   "cell_type": "code",
   "execution_count": 8,
   "id": "cba19e31",
   "metadata": {},
   "outputs": [],
   "source": [
    "x2 = re.findall(r'OI', text)"
   ]
  },
  {
   "cell_type": "code",
   "execution_count": 9,
   "id": "9f298633",
   "metadata": {},
   "outputs": [
    {
     "name": "stdout",
     "output_type": "stream",
     "text": [
      "['OI', 'OI']\n"
     ]
    }
   ],
   "source": [
    "print(x2)"
   ]
  },
  {
   "cell_type": "code",
   "execution_count": 10,
   "id": "26478d5b",
   "metadata": {},
   "outputs": [],
   "source": [
    "x3 = re.split(r',', text)"
   ]
  },
  {
   "cell_type": "code",
   "execution_count": 11,
   "id": "0d5d0ad9",
   "metadata": {},
   "outputs": [
    {
     "name": "stdout",
     "output_type": "stream",
     "text": [
      "['OI for FY 2019 was 12.4 billion', ' up more than eight percent from OI in FY 2018.']\n"
     ]
    }
   ],
   "source": [
    "print(x3)"
   ]
  },
  {
   "cell_type": "code",
   "execution_count": 12,
   "id": "b6a7e6f4",
   "metadata": {},
   "outputs": [],
   "source": [
    "x4 = re.sub(r'OI', 'operating income', text)"
   ]
  },
  {
   "cell_type": "code",
   "execution_count": 16,
   "id": "d5a5fdf4",
   "metadata": {},
   "outputs": [
    {
     "name": "stdout",
     "output_type": "stream",
     "text": [
      "The result of re.sub:\n",
      "operating income for FY 2019 was 12.4 billion, up more than eight percent from operating income in FY 2018.\n",
      "\n"
     ]
    }
   ],
   "source": [
    "print(f'The result of re.sub:\\n{x4}\\n')"
   ]
  },
  {
   "cell_type": "code",
   "execution_count": 17,
   "id": "28b821c8",
   "metadata": {},
   "outputs": [],
   "source": [
    "import numpy as np\n",
    "import pandas as pd"
   ]
  },
  {
   "cell_type": "code",
   "execution_count": 59,
   "id": "b15c6e2e",
   "metadata": {},
   "outputs": [],
   "source": [
    "esg_banking = pd.read_excel('ESG_Literature_Summary_to 95.xlsx', sheet_name='ESG_Banking')"
   ]
  },
  {
   "cell_type": "code",
   "execution_count": 60,
   "id": "c71effd5",
   "metadata": {},
   "outputs": [
    {
     "data": {
      "text/html": [
       "<div>\n",
       "<style scoped>\n",
       "    .dataframe tbody tr th:only-of-type {\n",
       "        vertical-align: middle;\n",
       "    }\n",
       "\n",
       "    .dataframe tbody tr th {\n",
       "        vertical-align: top;\n",
       "    }\n",
       "\n",
       "    .dataframe thead th {\n",
       "        text-align: right;\n",
       "    }\n",
       "</style>\n",
       "<table border=\"1\" class=\"dataframe\">\n",
       "  <thead>\n",
       "    <tr style=\"text-align: right;\">\n",
       "      <th></th>\n",
       "      <th>Unnamed: 0</th>\n",
       "      <th>Authors</th>\n",
       "      <th>Title</th>\n",
       "      <th>Journal</th>\n",
       "      <th>Key Words</th>\n",
       "      <th>Comment</th>\n",
       "      <th>ESG Var</th>\n",
       "      <th>Accouting Var</th>\n",
       "      <th>Market Var</th>\n",
       "      <th>Sample</th>\n",
       "      <th>Summary</th>\n",
       "    </tr>\n",
       "  </thead>\n",
       "  <tbody>\n",
       "    <tr>\n",
       "      <th>0</th>\n",
       "      <td>7</td>\n",
       "      <td>Buallay, A.</td>\n",
       "      <td>Is sustainability reporting (ESG) associated w...</td>\n",
       "      <td>Management of Environmental Quality: An Intern...</td>\n",
       "      <td>ESG</td>\n",
       "      <td>NaN</td>\n",
       "      <td>Bloomingberg index (combine ED, CGD, CSRD)</td>\n",
       "      <td>ROA ROE Financial leverage</td>\n",
       "      <td>Topin's Q</td>\n",
       "      <td>235 banks for ten years (2007-2016) to ends up...</td>\n",
       "      <td>A significant positive impact of ESG on the pe...</td>\n",
       "    </tr>\n",
       "    <tr>\n",
       "      <th>1</th>\n",
       "      <td>9</td>\n",
       "      <td>Campbell, D., &amp; Slack, R.</td>\n",
       "      <td>Environmental disclosure and environmental ris...</td>\n",
       "      <td>The British Accounting Review 43 (2011) 54-64</td>\n",
       "      <td>E (interview base)</td>\n",
       "      <td>NaN</td>\n",
       "      <td>Analysts' opinions on the decision-usefulness ...</td>\n",
       "      <td>NaN</td>\n",
       "      <td>NaN</td>\n",
       "      <td>A semi structured interview technique was empl...</td>\n",
       "      <td>Examines the decision-usefulness, to sell-side...</td>\n",
       "    </tr>\n",
       "    <tr>\n",
       "      <th>2</th>\n",
       "      <td>10</td>\n",
       "      <td>Carnevale, C., Mazzuca, M., &amp; Venturini, S.</td>\n",
       "      <td>Corporate Social Reporting in European Banks: ...</td>\n",
       "      <td>Corporate Social Responsibility and Environmen...</td>\n",
       "      <td>S</td>\n",
       "      <td>NaN</td>\n",
       "      <td>SR publication (Social report dummy), log (EPS...</td>\n",
       "      <td>log(EPS),  log(BPS)</td>\n",
       "      <td>stock price recorded ten days after the quarte...</td>\n",
       "      <td>including all European‐listed banks in the Eur...</td>\n",
       "      <td>The analysis for the entire sample does not pr...</td>\n",
       "    </tr>\n",
       "    <tr>\n",
       "      <th>3</th>\n",
       "      <td>12</td>\n",
       "      <td>Darus, F., Mad, S., &amp; Yusoff, H.</td>\n",
       "      <td>The importance of ownership monitoring and fir...</td>\n",
       "      <td>Social and Behavioral Sciences 145 (2014) 173 ...</td>\n",
       "      <td>ESG</td>\n",
       "      <td>NaN</td>\n",
       "      <td>CSRD (CSR disclosure, #word count)</td>\n",
       "      <td>Assets/Libilities</td>\n",
       "      <td>NaN</td>\n",
       "      <td>from relevant sections of the annual and susta...</td>\n",
       "      <td>To examine the determinants of CSR reporting f...</td>\n",
       "    </tr>\n",
       "    <tr>\n",
       "      <th>4</th>\n",
       "      <td>17</td>\n",
       "      <td>Eichholtz, P., Holtermans, R., Kok, N., &amp; Yönd...</td>\n",
       "      <td>Environmental performance and the cost of debt...</td>\n",
       "      <td>Journal of Banking and Finance 102 (2019) 19-32</td>\n",
       "      <td>E</td>\n",
       "      <td>NaN</td>\n",
       "      <td>Share of environmentally certified space in RE...</td>\n",
       "      <td>Debt Ratio, Market-to-Book</td>\n",
       "      <td>ratio of encumbrance to the total book value o...</td>\n",
       "      <td>Merging the SNL data with data from FactSet, w...</td>\n",
       "      <td>Loans on environmentally certified build- ings...</td>\n",
       "    </tr>\n",
       "  </tbody>\n",
       "</table>\n",
       "</div>"
      ],
      "text/plain": [
       "  Unnamed: 0                                            Authors  \\\n",
       "0          7                                        Buallay, A.   \n",
       "1          9                          Campbell, D., & Slack, R.   \n",
       "2         10        Carnevale, C., Mazzuca, M., & Venturini, S.   \n",
       "3         12                   Darus, F., Mad, S., & Yusoff, H.   \n",
       "4         17  Eichholtz, P., Holtermans, R., Kok, N., & Yönd...   \n",
       "\n",
       "                                               Title  \\\n",
       "0  Is sustainability reporting (ESG) associated w...   \n",
       "1  Environmental disclosure and environmental ris...   \n",
       "2  Corporate Social Reporting in European Banks: ...   \n",
       "3  The importance of ownership monitoring and fir...   \n",
       "4  Environmental performance and the cost of debt...   \n",
       "\n",
       "                                            Journal            Key Words  \\\n",
       "0  Management of Environmental Quality: An Intern...                 ESG   \n",
       "1      The British Accounting Review 43 (2011) 54-64  E (interview base)   \n",
       "2  Corporate Social Responsibility and Environmen...                   S   \n",
       "3  Social and Behavioral Sciences 145 (2014) 173 ...                 ESG   \n",
       "4    Journal of Banking and Finance 102 (2019) 19-32                   E   \n",
       "\n",
       "  Comment                                            ESG Var  \\\n",
       "0     NaN         Bloomingberg index (combine ED, CGD, CSRD)   \n",
       "1     NaN  Analysts' opinions on the decision-usefulness ...   \n",
       "2     NaN  SR publication (Social report dummy), log (EPS...   \n",
       "3     NaN                 CSRD (CSR disclosure, #word count)   \n",
       "4     NaN  Share of environmentally certified space in RE...   \n",
       "\n",
       "                Accouting Var  \\\n",
       "0  ROA ROE Financial leverage   \n",
       "1                         NaN   \n",
       "2         log(EPS),  log(BPS)   \n",
       "3           Assets/Libilities   \n",
       "4  Debt Ratio, Market-to-Book   \n",
       "\n",
       "                                          Market Var  \\\n",
       "0                                          Topin's Q   \n",
       "1                                                NaN   \n",
       "2  stock price recorded ten days after the quarte...   \n",
       "3                                                NaN   \n",
       "4  ratio of encumbrance to the total book value o...   \n",
       "\n",
       "                                              Sample  \\\n",
       "0  235 banks for ten years (2007-2016) to ends up...   \n",
       "1  A semi structured interview technique was empl...   \n",
       "2  including all European‐listed banks in the Eur...   \n",
       "3  from relevant sections of the annual and susta...   \n",
       "4  Merging the SNL data with data from FactSet, w...   \n",
       "\n",
       "                                             Summary  \n",
       "0  A significant positive impact of ESG on the pe...  \n",
       "1  Examines the decision-usefulness, to sell-side...  \n",
       "2  The analysis for the entire sample does not pr...  \n",
       "3  To examine the determinants of CSR reporting f...  \n",
       "4  Loans on environmentally certified build- ings...  "
      ]
     },
     "execution_count": 60,
     "metadata": {},
     "output_type": "execute_result"
    }
   ],
   "source": [
    "esg_banking.head()"
   ]
  },
  {
   "cell_type": "code",
   "execution_count": 63,
   "id": "98bbf28c",
   "metadata": {},
   "outputs": [],
   "source": [
    "esg_banking['Key Words']=esg_banking['Key Words'].str.replace('E', 'Environment')"
   ]
  },
  {
   "cell_type": "code",
   "execution_count": 64,
   "id": "24976c27",
   "metadata": {},
   "outputs": [
    {
     "data": {
      "text/html": [
       "<div>\n",
       "<style scoped>\n",
       "    .dataframe tbody tr th:only-of-type {\n",
       "        vertical-align: middle;\n",
       "    }\n",
       "\n",
       "    .dataframe tbody tr th {\n",
       "        vertical-align: top;\n",
       "    }\n",
       "\n",
       "    .dataframe thead th {\n",
       "        text-align: right;\n",
       "    }\n",
       "</style>\n",
       "<table border=\"1\" class=\"dataframe\">\n",
       "  <thead>\n",
       "    <tr style=\"text-align: right;\">\n",
       "      <th></th>\n",
       "      <th>Unnamed: 0</th>\n",
       "      <th>Authors</th>\n",
       "      <th>Title</th>\n",
       "      <th>Journal</th>\n",
       "      <th>Key Words</th>\n",
       "      <th>Comment</th>\n",
       "      <th>ESG Var</th>\n",
       "      <th>Accouting Var</th>\n",
       "      <th>Market Var</th>\n",
       "      <th>Sample</th>\n",
       "      <th>Summary</th>\n",
       "    </tr>\n",
       "  </thead>\n",
       "  <tbody>\n",
       "    <tr>\n",
       "      <th>0</th>\n",
       "      <td>7</td>\n",
       "      <td>Buallay, A.</td>\n",
       "      <td>Is sustainability reporting (ESG) associated w...</td>\n",
       "      <td>Management of Environmental Quality: An Intern...</td>\n",
       "      <td>EnvironmentSG</td>\n",
       "      <td>NaN</td>\n",
       "      <td>Bloomingberg index (combine ED, CGD, CSRD)</td>\n",
       "      <td>ROA ROE Financial leverage</td>\n",
       "      <td>Topin's Q</td>\n",
       "      <td>235 banks for ten years (2007-2016) to ends up...</td>\n",
       "      <td>A significant positive impact of ESG on the pe...</td>\n",
       "    </tr>\n",
       "    <tr>\n",
       "      <th>1</th>\n",
       "      <td>9</td>\n",
       "      <td>Campbell, D., &amp; Slack, R.</td>\n",
       "      <td>Environmental disclosure and environmental ris...</td>\n",
       "      <td>The British Accounting Review 43 (2011) 54-64</td>\n",
       "      <td>Environment (interview base)</td>\n",
       "      <td>NaN</td>\n",
       "      <td>Analysts' opinions on the decision-usefulness ...</td>\n",
       "      <td>NaN</td>\n",
       "      <td>NaN</td>\n",
       "      <td>A semi structured interview technique was empl...</td>\n",
       "      <td>Examines the decision-usefulness, to sell-side...</td>\n",
       "    </tr>\n",
       "    <tr>\n",
       "      <th>2</th>\n",
       "      <td>10</td>\n",
       "      <td>Carnevale, C., Mazzuca, M., &amp; Venturini, S.</td>\n",
       "      <td>Corporate Social Reporting in European Banks: ...</td>\n",
       "      <td>Corporate Social Responsibility and Environmen...</td>\n",
       "      <td>S</td>\n",
       "      <td>NaN</td>\n",
       "      <td>SR publication (Social report dummy), log (EPS...</td>\n",
       "      <td>log(EPS),  log(BPS)</td>\n",
       "      <td>stock price recorded ten days after the quarte...</td>\n",
       "      <td>including all European‐listed banks in the Eur...</td>\n",
       "      <td>The analysis for the entire sample does not pr...</td>\n",
       "    </tr>\n",
       "    <tr>\n",
       "      <th>3</th>\n",
       "      <td>12</td>\n",
       "      <td>Darus, F., Mad, S., &amp; Yusoff, H.</td>\n",
       "      <td>The importance of ownership monitoring and fir...</td>\n",
       "      <td>Social and Behavioral Sciences 145 (2014) 173 ...</td>\n",
       "      <td>EnvironmentSG</td>\n",
       "      <td>NaN</td>\n",
       "      <td>CSRD (CSR disclosure, #word count)</td>\n",
       "      <td>Assets/Libilities</td>\n",
       "      <td>NaN</td>\n",
       "      <td>from relevant sections of the annual and susta...</td>\n",
       "      <td>To examine the determinants of CSR reporting f...</td>\n",
       "    </tr>\n",
       "    <tr>\n",
       "      <th>4</th>\n",
       "      <td>17</td>\n",
       "      <td>Eichholtz, P., Holtermans, R., Kok, N., &amp; Yönd...</td>\n",
       "      <td>Environmental performance and the cost of debt...</td>\n",
       "      <td>Journal of Banking and Finance 102 (2019) 19-32</td>\n",
       "      <td>Environment</td>\n",
       "      <td>NaN</td>\n",
       "      <td>Share of environmentally certified space in RE...</td>\n",
       "      <td>Debt Ratio, Market-to-Book</td>\n",
       "      <td>ratio of encumbrance to the total book value o...</td>\n",
       "      <td>Merging the SNL data with data from FactSet, w...</td>\n",
       "      <td>Loans on environmentally certified build- ings...</td>\n",
       "    </tr>\n",
       "  </tbody>\n",
       "</table>\n",
       "</div>"
      ],
      "text/plain": [
       "  Unnamed: 0                                            Authors  \\\n",
       "0          7                                        Buallay, A.   \n",
       "1          9                          Campbell, D., & Slack, R.   \n",
       "2         10        Carnevale, C., Mazzuca, M., & Venturini, S.   \n",
       "3         12                   Darus, F., Mad, S., & Yusoff, H.   \n",
       "4         17  Eichholtz, P., Holtermans, R., Kok, N., & Yönd...   \n",
       "\n",
       "                                               Title  \\\n",
       "0  Is sustainability reporting (ESG) associated w...   \n",
       "1  Environmental disclosure and environmental ris...   \n",
       "2  Corporate Social Reporting in European Banks: ...   \n",
       "3  The importance of ownership monitoring and fir...   \n",
       "4  Environmental performance and the cost of debt...   \n",
       "\n",
       "                                            Journal   \\\n",
       "0  Management of Environmental Quality: An Intern...   \n",
       "1      The British Accounting Review 43 (2011) 54-64   \n",
       "2  Corporate Social Responsibility and Environmen...   \n",
       "3  Social and Behavioral Sciences 145 (2014) 173 ...   \n",
       "4    Journal of Banking and Finance 102 (2019) 19-32   \n",
       "\n",
       "                      Key Words Comment  \\\n",
       "0                 EnvironmentSG     NaN   \n",
       "1  Environment (interview base)     NaN   \n",
       "2                             S     NaN   \n",
       "3                 EnvironmentSG     NaN   \n",
       "4                   Environment     NaN   \n",
       "\n",
       "                                             ESG Var  \\\n",
       "0         Bloomingberg index (combine ED, CGD, CSRD)   \n",
       "1  Analysts' opinions on the decision-usefulness ...   \n",
       "2  SR publication (Social report dummy), log (EPS...   \n",
       "3                 CSRD (CSR disclosure, #word count)   \n",
       "4  Share of environmentally certified space in RE...   \n",
       "\n",
       "                Accouting Var  \\\n",
       "0  ROA ROE Financial leverage   \n",
       "1                         NaN   \n",
       "2         log(EPS),  log(BPS)   \n",
       "3           Assets/Libilities   \n",
       "4  Debt Ratio, Market-to-Book   \n",
       "\n",
       "                                          Market Var  \\\n",
       "0                                          Topin's Q   \n",
       "1                                                NaN   \n",
       "2  stock price recorded ten days after the quarte...   \n",
       "3                                                NaN   \n",
       "4  ratio of encumbrance to the total book value o...   \n",
       "\n",
       "                                              Sample  \\\n",
       "0  235 banks for ten years (2007-2016) to ends up...   \n",
       "1  A semi structured interview technique was empl...   \n",
       "2  including all European‐listed banks in the Eur...   \n",
       "3  from relevant sections of the annual and susta...   \n",
       "4  Merging the SNL data with data from FactSet, w...   \n",
       "\n",
       "                                             Summary  \n",
       "0  A significant positive impact of ESG on the pe...  \n",
       "1  Examines the decision-usefulness, to sell-side...  \n",
       "2  The analysis for the entire sample does not pr...  \n",
       "3  To examine the determinants of CSR reporting f...  \n",
       "4  Loans on environmentally certified build- ings...  "
      ]
     },
     "execution_count": 64,
     "metadata": {},
     "output_type": "execute_result"
    }
   ],
   "source": [
    "esg_banking.head()"
   ]
  },
  {
   "cell_type": "code",
   "execution_count": 70,
   "id": "cb21e56b",
   "metadata": {},
   "outputs": [],
   "source": [
    "table=pd.DataFrame({'ID':np.arange(1,6),\n",
    "                   'name':['Amy','Tom','Sam','Yuan','Hua']})"
   ]
  },
  {
   "cell_type": "code",
   "execution_count": 71,
   "id": "893ac472",
   "metadata": {},
   "outputs": [
    {
     "data": {
      "text/html": [
       "<div>\n",
       "<style scoped>\n",
       "    .dataframe tbody tr th:only-of-type {\n",
       "        vertical-align: middle;\n",
       "    }\n",
       "\n",
       "    .dataframe tbody tr th {\n",
       "        vertical-align: top;\n",
       "    }\n",
       "\n",
       "    .dataframe thead th {\n",
       "        text-align: right;\n",
       "    }\n",
       "</style>\n",
       "<table border=\"1\" class=\"dataframe\">\n",
       "  <thead>\n",
       "    <tr style=\"text-align: right;\">\n",
       "      <th></th>\n",
       "      <th>ID</th>\n",
       "      <th>name</th>\n",
       "    </tr>\n",
       "  </thead>\n",
       "  <tbody>\n",
       "    <tr>\n",
       "      <th>0</th>\n",
       "      <td>1</td>\n",
       "      <td>Amy</td>\n",
       "    </tr>\n",
       "    <tr>\n",
       "      <th>1</th>\n",
       "      <td>2</td>\n",
       "      <td>Tom</td>\n",
       "    </tr>\n",
       "    <tr>\n",
       "      <th>2</th>\n",
       "      <td>3</td>\n",
       "      <td>Sam</td>\n",
       "    </tr>\n",
       "    <tr>\n",
       "      <th>3</th>\n",
       "      <td>4</td>\n",
       "      <td>Yuan</td>\n",
       "    </tr>\n",
       "    <tr>\n",
       "      <th>4</th>\n",
       "      <td>5</td>\n",
       "      <td>Hua</td>\n",
       "    </tr>\n",
       "  </tbody>\n",
       "</table>\n",
       "</div>"
      ],
      "text/plain": [
       "   ID  name\n",
       "0   1   Amy\n",
       "1   2   Tom\n",
       "2   3   Sam\n",
       "3   4  Yuan\n",
       "4   5   Hua"
      ]
     },
     "execution_count": 71,
     "metadata": {},
     "output_type": "execute_result"
    }
   ],
   "source": [
    "table.head()"
   ]
  },
  {
   "cell_type": "code",
   "execution_count": 72,
   "id": "b9afd714",
   "metadata": {},
   "outputs": [
    {
     "data": {
      "text/html": [
       "<div>\n",
       "<style scoped>\n",
       "    .dataframe tbody tr th:only-of-type {\n",
       "        vertical-align: middle;\n",
       "    }\n",
       "\n",
       "    .dataframe tbody tr th {\n",
       "        vertical-align: top;\n",
       "    }\n",
       "\n",
       "    .dataframe thead th {\n",
       "        text-align: right;\n",
       "    }\n",
       "</style>\n",
       "<table border=\"1\" class=\"dataframe\">\n",
       "  <thead>\n",
       "    <tr style=\"text-align: right;\">\n",
       "      <th></th>\n",
       "      <th>ID</th>\n",
       "      <th>name</th>\n",
       "    </tr>\n",
       "  </thead>\n",
       "  <tbody>\n",
       "    <tr>\n",
       "      <th>0</th>\n",
       "      <td>1</td>\n",
       "      <td>Amy</td>\n",
       "    </tr>\n",
       "    <tr>\n",
       "      <th>1</th>\n",
       "      <td>2</td>\n",
       "      <td>Tom</td>\n",
       "    </tr>\n",
       "    <tr>\n",
       "      <th>2</th>\n",
       "      <td>3</td>\n",
       "      <td>Sam</td>\n",
       "    </tr>\n",
       "  </tbody>\n",
       "</table>\n",
       "</div>"
      ],
      "text/plain": [
       "   ID name\n",
       "0   1  Amy\n",
       "1   2  Tom\n",
       "2   3  Sam"
      ]
     },
     "execution_count": 72,
     "metadata": {},
     "output_type": "execute_result"
    }
   ],
   "source": [
    "sbool = pd.Series([True, True, True, False, False])\n",
    "table_filter = table[sbool]\n",
    "table_filter.head()"
   ]
  },
  {
   "cell_type": "code",
   "execution_count": 75,
   "id": "69436f6b",
   "metadata": {},
   "outputs": [],
   "source": [
    "table_filter2 = table[table['name'] == 'Tom']"
   ]
  },
  {
   "cell_type": "code",
   "execution_count": 76,
   "id": "0e26bd5a",
   "metadata": {},
   "outputs": [
    {
     "name": "stdout",
     "output_type": "stream",
     "text": [
      "Who is tom: \n",
      "   ID name\n",
      "1   2  Tom\n",
      "\n"
     ]
    }
   ],
   "source": [
    "print(f'Who is tom: \\n{table_filter2}\\n')"
   ]
  },
  {
   "cell_type": "code",
   "execution_count": 79,
   "id": "dc720fa1",
   "metadata": {},
   "outputs": [
    {
     "name": "stderr",
     "output_type": "stream",
     "text": [
      "<ipython-input-79-7ce8279168f0>:1: SettingWithCopyWarning: \n",
      "A value is trying to be set on a copy of a slice from a DataFrame.\n",
      "Try using .loc[row_indexer,col_indexer] = value instead\n",
      "\n",
      "See the caveats in the documentation: https://pandas.pydata.org/pandas-docs/stable/user_guide/indexing.html#returning-a-view-versus-a-copy\n",
      "  table_filter2['gender'] = 'Men'\n"
     ]
    }
   ],
   "source": [
    "table_filter2['gender'] = 'Men'"
   ]
  },
  {
   "cell_type": "code",
   "execution_count": 78,
   "id": "6f025cc6",
   "metadata": {
    "scrolled": true
   },
   "outputs": [
    {
     "name": "stdout",
     "output_type": "stream",
     "text": [
      "Who is tom: \n",
      "   ID name gender\n",
      "1   2  Tom    Men\n",
      "\n"
     ]
    }
   ],
   "source": [
    "print(f'Who is tom: \\n{table_filter2}\\n')"
   ]
  },
  {
   "cell_type": "code",
   "execution_count": 83,
   "id": "4614f4ab",
   "metadata": {},
   "outputs": [],
   "source": [
    "table['gender'] = 'male'"
   ]
  },
  {
   "cell_type": "code",
   "execution_count": 84,
   "id": "93804cfb",
   "metadata": {},
   "outputs": [
    {
     "data": {
      "text/html": [
       "<div>\n",
       "<style scoped>\n",
       "    .dataframe tbody tr th:only-of-type {\n",
       "        vertical-align: middle;\n",
       "    }\n",
       "\n",
       "    .dataframe tbody tr th {\n",
       "        vertical-align: top;\n",
       "    }\n",
       "\n",
       "    .dataframe thead th {\n",
       "        text-align: right;\n",
       "    }\n",
       "</style>\n",
       "<table border=\"1\" class=\"dataframe\">\n",
       "  <thead>\n",
       "    <tr style=\"text-align: right;\">\n",
       "      <th></th>\n",
       "      <th>ID</th>\n",
       "      <th>name</th>\n",
       "      <th>male or female</th>\n",
       "    </tr>\n",
       "  </thead>\n",
       "  <tbody>\n",
       "    <tr>\n",
       "      <th>0</th>\n",
       "      <td>1</td>\n",
       "      <td>Amy</td>\n",
       "      <td>male</td>\n",
       "    </tr>\n",
       "    <tr>\n",
       "      <th>1</th>\n",
       "      <td>2</td>\n",
       "      <td>Tom</td>\n",
       "      <td>male</td>\n",
       "    </tr>\n",
       "    <tr>\n",
       "      <th>2</th>\n",
       "      <td>3</td>\n",
       "      <td>Sam</td>\n",
       "      <td>male</td>\n",
       "    </tr>\n",
       "    <tr>\n",
       "      <th>3</th>\n",
       "      <td>4</td>\n",
       "      <td>Yuan</td>\n",
       "      <td>male</td>\n",
       "    </tr>\n",
       "    <tr>\n",
       "      <th>4</th>\n",
       "      <td>5</td>\n",
       "      <td>Hua</td>\n",
       "      <td>male</td>\n",
       "    </tr>\n",
       "  </tbody>\n",
       "</table>\n",
       "</div>"
      ],
      "text/plain": [
       "   ID  name male or female\n",
       "0   1   Amy           male\n",
       "1   2   Tom           male\n",
       "2   3   Sam           male\n",
       "3   4  Yuan           male\n",
       "4   5   Hua           male"
      ]
     },
     "execution_count": 84,
     "metadata": {},
     "output_type": "execute_result"
    }
   ],
   "source": [
    "table.rename(columns={'gender': 'male or female'})"
   ]
  },
  {
   "cell_type": "code",
   "execution_count": 1,
   "id": "39c26d60",
   "metadata": {},
   "outputs": [],
   "source": [
    "import numpy"
   ]
  },
  {
   "cell_type": "raw",
   "id": "753a2647",
   "metadata": {},
   "source": []
  }
 ],
 "metadata": {
  "kernelspec": {
   "display_name": "Python 3",
   "language": "python",
   "name": "python3"
  },
  "language_info": {
   "codemirror_mode": {
    "name": "ipython",
    "version": 3
   },
   "file_extension": ".py",
   "mimetype": "text/x-python",
   "name": "python",
   "nbconvert_exporter": "python",
   "pygments_lexer": "ipython3",
   "version": "3.8.8"
  }
 },
 "nbformat": 4,
 "nbformat_minor": 5
}
